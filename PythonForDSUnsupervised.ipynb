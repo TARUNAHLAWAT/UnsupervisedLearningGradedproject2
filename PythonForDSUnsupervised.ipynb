{
 "cells": [
  {
   "cell_type": "markdown",
   "id": "68963de7",
   "metadata": {},
   "source": [
    "# Graded Project\n",
    "Machine Learning - Unsupervised Learning\n",
    "Domain:\n",
    "○ E-commerce\n",
    "Business Context:\n",
    "● Customer segmentation is one of the most important marketing tools at your\n",
    "disposal, because it can help a business to better understand its target audience.\n",
    "This is because it groups customers based on common characteristics.\n",
    "● Segmentation can be based on the customer’s habits and lifestyle, in\n",
    "particular, their buying habits. Different age groups, for example, tend to\n",
    "spend their money in different ways, so brands need to be aware of who\n",
    "exactly is buying their product.\n",
    "● Segmentation also focuses more on the personality of the consumer,\n",
    "including their opinions, interests, reviews, and rating. Breaking down a\n",
    "large customer base into more manageable clusters, making it easier to\n",
    "identify your target audience and launch campaigns and promote the\n",
    "business to the most relevant people\n",
    "Dataset Description:\n",
    "The dataset contains measurements of clothing fit from RentTheRunway.\n",
    "RentTheRunWay is a unique platform that allows women to rent clothes for\n",
    "various occasions. The collected data is of several categories. This dataset\n",
    "contains self-reported fit feedback from customers as well as other side\n",
    "information like reviews, ratings, product categories, catalog sizes, customers’\n",
    "measurements (etc.)\n",
    "Attribute Information:\n",
    "SL.No Attribute Description\n",
    "1. user_id a unique id for the customer\n",
    "2. item_id unique product id\n",
    "3. weight weight measurement of customer\n",
    "4. rented for purpose clothing was rented for\n",
    "5. body type body type of customer\n",
    "6. review_text review given by the customer\n",
    "7. size the standardized size of the product\n",
    "8. rating rating for the product\n",
    "9. age age of the customer\n",
    "10. category the category of the product\n",
    "11. bust size bust measurement of customer\n",
    "12. height height of the customer\n",
    "13. review_date date when the review was written\n",
    "14. fit fit feedback\n",
    "Data Citation:\n",
    "● Rishabh Misra, Mengting Wan, Julian McAuley \"Decomposing Fit Semantics\n",
    "for Product Size Recommendation in Metric Spaces\". RecSys, 2018.\n",
    "● Rishabh Misra, Jigyasa Grover \"Sculpting Data for ML: The first act of\n",
    "Machine Learning\". 2021.\n",
    "Project Objective:\n",
    "Based on the given users and items data of an e-commerce company, segment\n",
    "the similar user and items into suitable clusters. Analyze the clusters and provide\n",
    "your insights to help the organization promote their business.\n",
    "Steps to the project: [Total score: 50 points]"
   ]
  },
  {
   "cell_type": "markdown",
   "id": "9b168e62",
   "metadata": {},
   "source": [
    "● Import the required libraries and load the data: [ Score: 3 point ]\n",
    "1. Load the required libraries and read the dataset. (1)\n",
    "2. Check the first few samples, shape, info of the data and try to familiarize\n",
    "yourself with different features (2)"
   ]
  },
  {
   "cell_type": "code",
   "execution_count": 1,
   "id": "20f2a0dc",
   "metadata": {},
   "outputs": [],
   "source": [
    "## 1.import the libraries\n",
    "import numpy as np \n",
    "import pandas as pd \n",
    "import matplotlib.pyplot as plt\n",
    "import seaborn as sns\n",
    "import sklearn\n",
    "from sklearn.model_selection import train_test_split\n",
    "from sklearn.preprocessing import StandardScaler,LabelEncoder\n",
    "\n",
    "\n",
    "import warnings\n",
    "warnings.filterwarnings('ignore')\n",
    "\n",
    "from sklearn.metrics import accuracy_score\n",
    "from sklearn.linear_model import LogisticRegression\n",
    "from sklearn.naive_bayes import GaussianNB\n",
    "from sklearn.neighbors import KNeighborsClassifier\n",
    "from sklearn.tree import DecisionTreeClassifier\n",
    "from sklearn.ensemble import RandomForestClassifier\n",
    "from sklearn.ensemble import StackingClassifier\n",
    "from sklearn import preprocessing\n",
    "from sklearn.preprocessing import Normalizer\n",
    "import csv\n",
    "from sklearn.cluster import KMeans\n",
    "from sklearn.metrics import silhouette_score"
   ]
  },
  {
   "cell_type": "code",
   "execution_count": 2,
   "id": "2e54909c",
   "metadata": {},
   "outputs": [
    {
     "data": {
      "text/html": [
       "<div>\n",
       "<style scoped>\n",
       "    .dataframe tbody tr th:only-of-type {\n",
       "        vertical-align: middle;\n",
       "    }\n",
       "\n",
       "    .dataframe tbody tr th {\n",
       "        vertical-align: top;\n",
       "    }\n",
       "\n",
       "    .dataframe thead th {\n",
       "        text-align: right;\n",
       "    }\n",
       "</style>\n",
       "<table border=\"1\" class=\"dataframe\">\n",
       "  <thead>\n",
       "    <tr style=\"text-align: right;\">\n",
       "      <th></th>\n",
       "      <th>Unnamed: 0</th>\n",
       "      <th>fit</th>\n",
       "      <th>user_id</th>\n",
       "      <th>bust size</th>\n",
       "      <th>item_id</th>\n",
       "      <th>weight</th>\n",
       "      <th>rating</th>\n",
       "      <th>rented for</th>\n",
       "      <th>review_text</th>\n",
       "      <th>body type</th>\n",
       "      <th>review_summary</th>\n",
       "      <th>category</th>\n",
       "      <th>height</th>\n",
       "      <th>size</th>\n",
       "      <th>age</th>\n",
       "      <th>review_date</th>\n",
       "    </tr>\n",
       "  </thead>\n",
       "  <tbody>\n",
       "    <tr>\n",
       "      <th>0</th>\n",
       "      <td>0</td>\n",
       "      <td>fit</td>\n",
       "      <td>420272</td>\n",
       "      <td>34d</td>\n",
       "      <td>2260466</td>\n",
       "      <td>137lbs</td>\n",
       "      <td>10.0</td>\n",
       "      <td>vacation</td>\n",
       "      <td>An adorable romper! Belt and zipper were a lit...</td>\n",
       "      <td>hourglass</td>\n",
       "      <td>So many compliments!</td>\n",
       "      <td>romper</td>\n",
       "      <td>5' 8\"</td>\n",
       "      <td>14</td>\n",
       "      <td>28.0</td>\n",
       "      <td>April 20, 2016</td>\n",
       "    </tr>\n",
       "    <tr>\n",
       "      <th>1</th>\n",
       "      <td>1</td>\n",
       "      <td>fit</td>\n",
       "      <td>273551</td>\n",
       "      <td>34b</td>\n",
       "      <td>153475</td>\n",
       "      <td>132lbs</td>\n",
       "      <td>10.0</td>\n",
       "      <td>other</td>\n",
       "      <td>I rented this dress for a photo shoot. The the...</td>\n",
       "      <td>straight &amp; narrow</td>\n",
       "      <td>I felt so glamourous!!!</td>\n",
       "      <td>gown</td>\n",
       "      <td>5' 6\"</td>\n",
       "      <td>12</td>\n",
       "      <td>36.0</td>\n",
       "      <td>June 18, 2013</td>\n",
       "    </tr>\n",
       "    <tr>\n",
       "      <th>2</th>\n",
       "      <td>2</td>\n",
       "      <td>fit</td>\n",
       "      <td>360448</td>\n",
       "      <td>NaN</td>\n",
       "      <td>1063761</td>\n",
       "      <td>NaN</td>\n",
       "      <td>10.0</td>\n",
       "      <td>party</td>\n",
       "      <td>This hugged in all the right places! It was a ...</td>\n",
       "      <td>NaN</td>\n",
       "      <td>It was a great time to celebrate the (almost) ...</td>\n",
       "      <td>sheath</td>\n",
       "      <td>5' 4\"</td>\n",
       "      <td>4</td>\n",
       "      <td>116.0</td>\n",
       "      <td>December 14, 2015</td>\n",
       "    </tr>\n",
       "    <tr>\n",
       "      <th>3</th>\n",
       "      <td>3</td>\n",
       "      <td>fit</td>\n",
       "      <td>909926</td>\n",
       "      <td>34c</td>\n",
       "      <td>126335</td>\n",
       "      <td>135lbs</td>\n",
       "      <td>8.0</td>\n",
       "      <td>formal affair</td>\n",
       "      <td>I rented this for my company's black tie award...</td>\n",
       "      <td>pear</td>\n",
       "      <td>Dress arrived on time and in perfect condition.</td>\n",
       "      <td>dress</td>\n",
       "      <td>5' 5\"</td>\n",
       "      <td>8</td>\n",
       "      <td>34.0</td>\n",
       "      <td>February 12, 2014</td>\n",
       "    </tr>\n",
       "    <tr>\n",
       "      <th>4</th>\n",
       "      <td>4</td>\n",
       "      <td>fit</td>\n",
       "      <td>151944</td>\n",
       "      <td>34b</td>\n",
       "      <td>616682</td>\n",
       "      <td>145lbs</td>\n",
       "      <td>10.0</td>\n",
       "      <td>wedding</td>\n",
       "      <td>I have always been petite in my upper body and...</td>\n",
       "      <td>athletic</td>\n",
       "      <td>Was in love with this dress !!!</td>\n",
       "      <td>gown</td>\n",
       "      <td>5' 9\"</td>\n",
       "      <td>12</td>\n",
       "      <td>27.0</td>\n",
       "      <td>September 26, 2016</td>\n",
       "    </tr>\n",
       "  </tbody>\n",
       "</table>\n",
       "</div>"
      ],
      "text/plain": [
       "   Unnamed: 0  fit  user_id bust size  item_id  weight  rating     rented for  \\\n",
       "0           0  fit   420272       34d  2260466  137lbs    10.0       vacation   \n",
       "1           1  fit   273551       34b   153475  132lbs    10.0          other   \n",
       "2           2  fit   360448       NaN  1063761     NaN    10.0          party   \n",
       "3           3  fit   909926       34c   126335  135lbs     8.0  formal affair   \n",
       "4           4  fit   151944       34b   616682  145lbs    10.0        wedding   \n",
       "\n",
       "                                         review_text          body type  \\\n",
       "0  An adorable romper! Belt and zipper were a lit...          hourglass   \n",
       "1  I rented this dress for a photo shoot. The the...  straight & narrow   \n",
       "2  This hugged in all the right places! It was a ...                NaN   \n",
       "3  I rented this for my company's black tie award...               pear   \n",
       "4  I have always been petite in my upper body and...           athletic   \n",
       "\n",
       "                                      review_summary category height  size  \\\n",
       "0                               So many compliments!   romper  5' 8\"    14   \n",
       "1                            I felt so glamourous!!!     gown  5' 6\"    12   \n",
       "2  It was a great time to celebrate the (almost) ...   sheath  5' 4\"     4   \n",
       "3   Dress arrived on time and in perfect condition.     dress  5' 5\"     8   \n",
       "4                    Was in love with this dress !!!     gown  5' 9\"    12   \n",
       "\n",
       "     age         review_date  \n",
       "0   28.0      April 20, 2016  \n",
       "1   36.0       June 18, 2013  \n",
       "2  116.0   December 14, 2015  \n",
       "3   34.0   February 12, 2014  \n",
       "4   27.0  September 26, 2016  "
      ]
     },
     "execution_count": 2,
     "metadata": {},
     "output_type": "execute_result"
    }
   ],
   "source": [
    "## load the dataset and read them\n",
    "df = pd.read_csv('renttherunway.csv')\n",
    "df.head()"
   ]
  },
  {
   "cell_type": "code",
   "execution_count": 3,
   "id": "36a57b09",
   "metadata": {},
   "outputs": [
    {
     "data": {
      "text/html": [
       "<div>\n",
       "<style scoped>\n",
       "    .dataframe tbody tr th:only-of-type {\n",
       "        vertical-align: middle;\n",
       "    }\n",
       "\n",
       "    .dataframe tbody tr th {\n",
       "        vertical-align: top;\n",
       "    }\n",
       "\n",
       "    .dataframe thead th {\n",
       "        text-align: right;\n",
       "    }\n",
       "</style>\n",
       "<table border=\"1\" class=\"dataframe\">\n",
       "  <thead>\n",
       "    <tr style=\"text-align: right;\">\n",
       "      <th></th>\n",
       "      <th>Unnamed: 0</th>\n",
       "      <th>fit</th>\n",
       "      <th>user_id</th>\n",
       "      <th>bust size</th>\n",
       "      <th>item_id</th>\n",
       "      <th>weight</th>\n",
       "      <th>rating</th>\n",
       "      <th>rented for</th>\n",
       "      <th>review_text</th>\n",
       "      <th>body type</th>\n",
       "      <th>review_summary</th>\n",
       "      <th>category</th>\n",
       "      <th>height</th>\n",
       "      <th>size</th>\n",
       "      <th>age</th>\n",
       "      <th>review_date</th>\n",
       "    </tr>\n",
       "  </thead>\n",
       "  <tbody>\n",
       "    <tr>\n",
       "      <th>142906</th>\n",
       "      <td>142906</td>\n",
       "      <td>fit</td>\n",
       "      <td>711858</td>\n",
       "      <td>34d</td>\n",
       "      <td>164593</td>\n",
       "      <td>124lbs</td>\n",
       "      <td>2.0</td>\n",
       "      <td>wedding</td>\n",
       "      <td>The dress does not look the way it does on the...</td>\n",
       "      <td>petite</td>\n",
       "      <td>The material was not great at all. I would not...</td>\n",
       "      <td>dress</td>\n",
       "      <td>5' 3\"</td>\n",
       "      <td>8</td>\n",
       "      <td>31.0</td>\n",
       "      <td>December 20, 2012</td>\n",
       "    </tr>\n",
       "    <tr>\n",
       "      <th>68352</th>\n",
       "      <td>68352</td>\n",
       "      <td>fit</td>\n",
       "      <td>363023</td>\n",
       "      <td>36c</td>\n",
       "      <td>2126992</td>\n",
       "      <td>NaN</td>\n",
       "      <td>10.0</td>\n",
       "      <td>work</td>\n",
       "      <td>I love shoulder cut-outs and this top was exac...</td>\n",
       "      <td>hourglass</td>\n",
       "      <td>Flattering, warm,  and the perfect top to wear...</td>\n",
       "      <td>turtleneck</td>\n",
       "      <td>5' 4\"</td>\n",
       "      <td>14</td>\n",
       "      <td>29.0</td>\n",
       "      <td>March 16, 2017</td>\n",
       "    </tr>\n",
       "    <tr>\n",
       "      <th>127184</th>\n",
       "      <td>127184</td>\n",
       "      <td>fit</td>\n",
       "      <td>777291</td>\n",
       "      <td>36b</td>\n",
       "      <td>637670</td>\n",
       "      <td>150lbs</td>\n",
       "      <td>10.0</td>\n",
       "      <td>formal affair</td>\n",
       "      <td>Wore it to a Gala and received so many complim...</td>\n",
       "      <td>athletic</td>\n",
       "      <td>I didn't take a full body shot - womp womp but...</td>\n",
       "      <td>gown</td>\n",
       "      <td>5' 8\"</td>\n",
       "      <td>16</td>\n",
       "      <td>35.0</td>\n",
       "      <td>November 9, 2015</td>\n",
       "    </tr>\n",
       "    <tr>\n",
       "      <th>158561</th>\n",
       "      <td>158561</td>\n",
       "      <td>fit</td>\n",
       "      <td>121123</td>\n",
       "      <td>32a</td>\n",
       "      <td>123373</td>\n",
       "      <td>120lbs</td>\n",
       "      <td>10.0</td>\n",
       "      <td>formal affair</td>\n",
       "      <td>I'm 5'9\" and the 0L came to about my ankles, s...</td>\n",
       "      <td>straight &amp; narrow</td>\n",
       "      <td>The dress was very comfortable and fit nicely.</td>\n",
       "      <td>gown</td>\n",
       "      <td>5' 9\"</td>\n",
       "      <td>2</td>\n",
       "      <td>30.0</td>\n",
       "      <td>April 15, 2014</td>\n",
       "    </tr>\n",
       "    <tr>\n",
       "      <th>89748</th>\n",
       "      <td>89748</td>\n",
       "      <td>fit</td>\n",
       "      <td>679042</td>\n",
       "      <td>32d</td>\n",
       "      <td>128730</td>\n",
       "      <td>150lbs</td>\n",
       "      <td>8.0</td>\n",
       "      <td>wedding</td>\n",
       "      <td>Rented this for a friends wedding and it was g...</td>\n",
       "      <td>pear</td>\n",
       "      <td>Loved this dress</td>\n",
       "      <td>dress</td>\n",
       "      <td>5' 10\"</td>\n",
       "      <td>12</td>\n",
       "      <td>31.0</td>\n",
       "      <td>May 14, 2015</td>\n",
       "    </tr>\n",
       "    <tr>\n",
       "      <th>102779</th>\n",
       "      <td>102779</td>\n",
       "      <td>fit</td>\n",
       "      <td>475528</td>\n",
       "      <td>32a</td>\n",
       "      <td>1340234</td>\n",
       "      <td>110lbs</td>\n",
       "      <td>10.0</td>\n",
       "      <td>wedding</td>\n",
       "      <td>absolutely loved this dress. I had to pin the ...</td>\n",
       "      <td>petite</td>\n",
       "      <td>my favorite RTR to date! perfect for a fall we...</td>\n",
       "      <td>dress</td>\n",
       "      <td>5' 3\"</td>\n",
       "      <td>1</td>\n",
       "      <td>27.0</td>\n",
       "      <td>October 26, 2017</td>\n",
       "    </tr>\n",
       "    <tr>\n",
       "      <th>3835</th>\n",
       "      <td>3835</td>\n",
       "      <td>fit</td>\n",
       "      <td>932361</td>\n",
       "      <td>NaN</td>\n",
       "      <td>1808470</td>\n",
       "      <td>150lbs</td>\n",
       "      <td>10.0</td>\n",
       "      <td>wedding</td>\n",
       "      <td>I rented this dress to wear as the only brides...</td>\n",
       "      <td>NaN</td>\n",
       "      <td>Flattering, easy dress!</td>\n",
       "      <td>sheath</td>\n",
       "      <td>5' 7\"</td>\n",
       "      <td>20</td>\n",
       "      <td>34.0</td>\n",
       "      <td>January 23, 2017</td>\n",
       "    </tr>\n",
       "    <tr>\n",
       "      <th>145468</th>\n",
       "      <td>145468</td>\n",
       "      <td>fit</td>\n",
       "      <td>219824</td>\n",
       "      <td>32d</td>\n",
       "      <td>166006</td>\n",
       "      <td>125lbs</td>\n",
       "      <td>10.0</td>\n",
       "      <td>formal affair</td>\n",
       "      <td>This fit very well. I have a very large bust (...</td>\n",
       "      <td>full bust</td>\n",
       "      <td>I felt very beautiful in this dress.</td>\n",
       "      <td>gown</td>\n",
       "      <td>5' 5\"</td>\n",
       "      <td>8</td>\n",
       "      <td>34.0</td>\n",
       "      <td>April 17, 2015</td>\n",
       "    </tr>\n",
       "  </tbody>\n",
       "</table>\n",
       "</div>"
      ],
      "text/plain": [
       "        Unnamed: 0  fit  user_id bust size  item_id  weight  rating  \\\n",
       "142906      142906  fit   711858       34d   164593  124lbs     2.0   \n",
       "68352        68352  fit   363023       36c  2126992     NaN    10.0   \n",
       "127184      127184  fit   777291       36b   637670  150lbs    10.0   \n",
       "158561      158561  fit   121123       32a   123373  120lbs    10.0   \n",
       "89748        89748  fit   679042       32d   128730  150lbs     8.0   \n",
       "102779      102779  fit   475528       32a  1340234  110lbs    10.0   \n",
       "3835          3835  fit   932361       NaN  1808470  150lbs    10.0   \n",
       "145468      145468  fit   219824       32d   166006  125lbs    10.0   \n",
       "\n",
       "           rented for                                        review_text  \\\n",
       "142906        wedding  The dress does not look the way it does on the...   \n",
       "68352            work  I love shoulder cut-outs and this top was exac...   \n",
       "127184  formal affair  Wore it to a Gala and received so many complim...   \n",
       "158561  formal affair  I'm 5'9\" and the 0L came to about my ankles, s...   \n",
       "89748         wedding  Rented this for a friends wedding and it was g...   \n",
       "102779        wedding  absolutely loved this dress. I had to pin the ...   \n",
       "3835          wedding  I rented this dress to wear as the only brides...   \n",
       "145468  formal affair  This fit very well. I have a very large bust (...   \n",
       "\n",
       "                body type                                     review_summary  \\\n",
       "142906             petite  The material was not great at all. I would not...   \n",
       "68352           hourglass  Flattering, warm,  and the perfect top to wear...   \n",
       "127184           athletic  I didn't take a full body shot - womp womp but...   \n",
       "158561  straight & narrow     The dress was very comfortable and fit nicely.   \n",
       "89748                pear                                   Loved this dress   \n",
       "102779             petite  my favorite RTR to date! perfect for a fall we...   \n",
       "3835                  NaN                            Flattering, easy dress!   \n",
       "145468          full bust               I felt very beautiful in this dress.   \n",
       "\n",
       "          category  height  size   age        review_date  \n",
       "142906       dress   5' 3\"     8  31.0  December 20, 2012  \n",
       "68352   turtleneck   5' 4\"    14  29.0     March 16, 2017  \n",
       "127184        gown   5' 8\"    16  35.0   November 9, 2015  \n",
       "158561        gown   5' 9\"     2  30.0     April 15, 2014  \n",
       "89748        dress  5' 10\"    12  31.0       May 14, 2015  \n",
       "102779       dress   5' 3\"     1  27.0   October 26, 2017  \n",
       "3835        sheath   5' 7\"    20  34.0   January 23, 2017  \n",
       "145468        gown   5' 5\"     8  34.0     April 17, 2015  "
      ]
     },
     "execution_count": 3,
     "metadata": {},
     "output_type": "execute_result"
    }
   ],
   "source": [
    "## 2. check few samples\n",
    "df.sample(8)"
   ]
  },
  {
   "cell_type": "code",
   "execution_count": 4,
   "id": "93a581e0",
   "metadata": {},
   "outputs": [
    {
     "data": {
      "text/plain": [
       "(192544, 16)"
      ]
     },
     "execution_count": 4,
     "metadata": {},
     "output_type": "execute_result"
    }
   ],
   "source": [
    "## check the shape\n",
    "df.shape"
   ]
  },
  {
   "cell_type": "code",
   "execution_count": 5,
   "id": "0697c8dd",
   "metadata": {},
   "outputs": [
    {
     "name": "stdout",
     "output_type": "stream",
     "text": [
      "<class 'pandas.core.frame.DataFrame'>\n",
      "RangeIndex: 192544 entries, 0 to 192543\n",
      "Data columns (total 16 columns):\n",
      " #   Column          Non-Null Count   Dtype  \n",
      "---  ------          --------------   -----  \n",
      " 0   Unnamed: 0      192544 non-null  int64  \n",
      " 1   fit             192544 non-null  object \n",
      " 2   user_id         192544 non-null  int64  \n",
      " 3   bust size       174133 non-null  object \n",
      " 4   item_id         192544 non-null  int64  \n",
      " 5   weight          162562 non-null  object \n",
      " 6   rating          192462 non-null  float64\n",
      " 7   rented for      192534 non-null  object \n",
      " 8   review_text     192482 non-null  object \n",
      " 9   body type       177907 non-null  object \n",
      " 10  review_summary  192199 non-null  object \n",
      " 11  category        192544 non-null  object \n",
      " 12  height          191867 non-null  object \n",
      " 13  size            192544 non-null  int64  \n",
      " 14  age             191584 non-null  float64\n",
      " 15  review_date     192544 non-null  object \n",
      "dtypes: float64(2), int64(4), object(10)\n",
      "memory usage: 23.5+ MB\n"
     ]
    }
   ],
   "source": [
    "## checking info\n",
    "df.info()"
   ]
  },
  {
   "cell_type": "markdown",
   "id": "86e4cad5",
   "metadata": {},
   "source": [
    "● Data cleansing and Exploratory data analysis: [ Score: 20 point ]\n",
    "\n",
    "3. Check if there are any duplicate records in the dataset? If any, drop them.(1)\n",
    "4. Drop the columns which you think redundant for the analysis.(Hint: drop\n",
    "columns like ‘id’, ‘review’) (1)\n",
    "5. Check the column 'weight', Is there any presence of string data? If yes, remove\n",
    "the string data and convert to float. (Hint: 'weight' has the suffix as lbs) (2)\n",
    "6. Check the unique categories for the column 'rented for' and group 'party:\n",
    "cocktail' category with 'party'. (2)\n",
    "7. The column 'height' is in feet with a quotation mark, Convert to inches with\n",
    "float datatype. (3)\n",
    "8. Check for missing values in each column of the dataset? If it exists, impute\n",
    "them with appropriate methods. (3)\n",
    "9. Check the statistical summary for the numerical and categorical columns and\n",
    "write your findings. (3)\n",
    "10. Are there outliers present in the column age? If yes, treat them with the\n",
    "appropriate method. (3)\n",
    "11. Check the distribution of the different categories in the column 'rented for'\n",
    "using appropriate plot. (2)\n"
   ]
  },
  {
   "cell_type": "code",
   "execution_count": 6,
   "id": "a4b039e6",
   "metadata": {},
   "outputs": [
    {
     "data": {
      "text/plain": [
       "Unnamed: 0         0.000000\n",
       "fit                0.000000\n",
       "user_id            0.000000\n",
       "bust size          9.561970\n",
       "item_id            0.000000\n",
       "weight            15.571506\n",
       "rating             0.042588\n",
       "rented for         0.005194\n",
       "review_text        0.032200\n",
       "body type          7.601899\n",
       "review_summary     0.179180\n",
       "category           0.000000\n",
       "height             0.351608\n",
       "size               0.000000\n",
       "age                0.498587\n",
       "review_date        0.000000\n",
       "dtype: float64"
      ]
     },
     "execution_count": 6,
     "metadata": {},
     "output_type": "execute_result"
    }
   ],
   "source": [
    "##check for null\n",
    "df.isnull().sum()/len(df)*100"
   ]
  },
  {
   "cell_type": "code",
   "execution_count": 7,
   "id": "355d98cc",
   "metadata": {},
   "outputs": [
    {
     "data": {
      "text/plain": [
       "0"
      ]
     },
     "execution_count": 7,
     "metadata": {},
     "output_type": "execute_result"
    }
   ],
   "source": [
    "## 3.check duplicates\n",
    "len(df[df.duplicated()])"
   ]
  },
  {
   "cell_type": "markdown",
   "id": "2b37b431",
   "metadata": {},
   "source": [
    "* no duplicate records found"
   ]
  },
  {
   "cell_type": "code",
   "execution_count": 8,
   "id": "362f700b",
   "metadata": {},
   "outputs": [
    {
     "data": {
      "text/html": [
       "<div>\n",
       "<style scoped>\n",
       "    .dataframe tbody tr th:only-of-type {\n",
       "        vertical-align: middle;\n",
       "    }\n",
       "\n",
       "    .dataframe tbody tr th {\n",
       "        vertical-align: top;\n",
       "    }\n",
       "\n",
       "    .dataframe thead th {\n",
       "        text-align: right;\n",
       "    }\n",
       "</style>\n",
       "<table border=\"1\" class=\"dataframe\">\n",
       "  <thead>\n",
       "    <tr style=\"text-align: right;\">\n",
       "      <th></th>\n",
       "      <th>Unnamed: 0</th>\n",
       "      <th>fit</th>\n",
       "      <th>bust size</th>\n",
       "      <th>weight</th>\n",
       "      <th>rating</th>\n",
       "      <th>rented for</th>\n",
       "      <th>review_text</th>\n",
       "      <th>body type</th>\n",
       "      <th>review_summary</th>\n",
       "      <th>category</th>\n",
       "      <th>height</th>\n",
       "      <th>size</th>\n",
       "      <th>age</th>\n",
       "    </tr>\n",
       "  </thead>\n",
       "  <tbody>\n",
       "    <tr>\n",
       "      <th>0</th>\n",
       "      <td>0</td>\n",
       "      <td>fit</td>\n",
       "      <td>34d</td>\n",
       "      <td>137lbs</td>\n",
       "      <td>10.0</td>\n",
       "      <td>vacation</td>\n",
       "      <td>An adorable romper! Belt and zipper were a lit...</td>\n",
       "      <td>hourglass</td>\n",
       "      <td>So many compliments!</td>\n",
       "      <td>romper</td>\n",
       "      <td>5' 8\"</td>\n",
       "      <td>14</td>\n",
       "      <td>28.0</td>\n",
       "    </tr>\n",
       "    <tr>\n",
       "      <th>1</th>\n",
       "      <td>1</td>\n",
       "      <td>fit</td>\n",
       "      <td>34b</td>\n",
       "      <td>132lbs</td>\n",
       "      <td>10.0</td>\n",
       "      <td>other</td>\n",
       "      <td>I rented this dress for a photo shoot. The the...</td>\n",
       "      <td>straight &amp; narrow</td>\n",
       "      <td>I felt so glamourous!!!</td>\n",
       "      <td>gown</td>\n",
       "      <td>5' 6\"</td>\n",
       "      <td>12</td>\n",
       "      <td>36.0</td>\n",
       "    </tr>\n",
       "    <tr>\n",
       "      <th>2</th>\n",
       "      <td>2</td>\n",
       "      <td>fit</td>\n",
       "      <td>NaN</td>\n",
       "      <td>NaN</td>\n",
       "      <td>10.0</td>\n",
       "      <td>party</td>\n",
       "      <td>This hugged in all the right places! It was a ...</td>\n",
       "      <td>NaN</td>\n",
       "      <td>It was a great time to celebrate the (almost) ...</td>\n",
       "      <td>sheath</td>\n",
       "      <td>5' 4\"</td>\n",
       "      <td>4</td>\n",
       "      <td>116.0</td>\n",
       "    </tr>\n",
       "    <tr>\n",
       "      <th>3</th>\n",
       "      <td>3</td>\n",
       "      <td>fit</td>\n",
       "      <td>34c</td>\n",
       "      <td>135lbs</td>\n",
       "      <td>8.0</td>\n",
       "      <td>formal affair</td>\n",
       "      <td>I rented this for my company's black tie award...</td>\n",
       "      <td>pear</td>\n",
       "      <td>Dress arrived on time and in perfect condition.</td>\n",
       "      <td>dress</td>\n",
       "      <td>5' 5\"</td>\n",
       "      <td>8</td>\n",
       "      <td>34.0</td>\n",
       "    </tr>\n",
       "    <tr>\n",
       "      <th>4</th>\n",
       "      <td>4</td>\n",
       "      <td>fit</td>\n",
       "      <td>34b</td>\n",
       "      <td>145lbs</td>\n",
       "      <td>10.0</td>\n",
       "      <td>wedding</td>\n",
       "      <td>I have always been petite in my upper body and...</td>\n",
       "      <td>athletic</td>\n",
       "      <td>Was in love with this dress !!!</td>\n",
       "      <td>gown</td>\n",
       "      <td>5' 9\"</td>\n",
       "      <td>12</td>\n",
       "      <td>27.0</td>\n",
       "    </tr>\n",
       "  </tbody>\n",
       "</table>\n",
       "</div>"
      ],
      "text/plain": [
       "   Unnamed: 0  fit bust size  weight  rating     rented for  \\\n",
       "0           0  fit       34d  137lbs    10.0       vacation   \n",
       "1           1  fit       34b  132lbs    10.0          other   \n",
       "2           2  fit       NaN     NaN    10.0          party   \n",
       "3           3  fit       34c  135lbs     8.0  formal affair   \n",
       "4           4  fit       34b  145lbs    10.0        wedding   \n",
       "\n",
       "                                         review_text          body type  \\\n",
       "0  An adorable romper! Belt and zipper were a lit...          hourglass   \n",
       "1  I rented this dress for a photo shoot. The the...  straight & narrow   \n",
       "2  This hugged in all the right places! It was a ...                NaN   \n",
       "3  I rented this for my company's black tie award...               pear   \n",
       "4  I have always been petite in my upper body and...           athletic   \n",
       "\n",
       "                                      review_summary category height  size  \\\n",
       "0                               So many compliments!   romper  5' 8\"    14   \n",
       "1                            I felt so glamourous!!!     gown  5' 6\"    12   \n",
       "2  It was a great time to celebrate the (almost) ...   sheath  5' 4\"     4   \n",
       "3   Dress arrived on time and in perfect condition.     dress  5' 5\"     8   \n",
       "4                    Was in love with this dress !!!     gown  5' 9\"    12   \n",
       "\n",
       "     age  \n",
       "0   28.0  \n",
       "1   36.0  \n",
       "2  116.0  \n",
       "3   34.0  \n",
       "4   27.0  "
      ]
     },
     "execution_count": 8,
     "metadata": {},
     "output_type": "execute_result"
    }
   ],
   "source": [
    "## 4.drop the columns\n",
    "df = df.drop(columns=['user_id','item_id','review_date'],axis=1)\n",
    "df.head()"
   ]
  },
  {
   "cell_type": "code",
   "execution_count": 9,
   "id": "a1d704bb",
   "metadata": {},
   "outputs": [
    {
     "data": {
      "text/plain": [
       "dtype('O')"
      ]
     },
     "execution_count": 9,
     "metadata": {},
     "output_type": "execute_result"
    }
   ],
   "source": [
    "## 5.check for presene of string data\n",
    "df.weight.dtypes"
   ]
  },
  {
   "cell_type": "markdown",
   "id": "8bf30e8c",
   "metadata": {},
   "source": [
    "data type is object."
   ]
  },
  {
   "cell_type": "code",
   "execution_count": 10,
   "id": "0d941be4",
   "metadata": {},
   "outputs": [],
   "source": [
    "## convert to float\n",
    "df['weight']=df['weight'].str.replace('lbs','').astype(float)"
   ]
  },
  {
   "cell_type": "code",
   "execution_count": 11,
   "id": "9bede41c",
   "metadata": {},
   "outputs": [
    {
     "data": {
      "text/plain": [
       "0         137.0\n",
       "1         132.0\n",
       "2           NaN\n",
       "3         135.0\n",
       "4         145.0\n",
       "          ...  \n",
       "192539    140.0\n",
       "192540    100.0\n",
       "192541    135.0\n",
       "192542    165.0\n",
       "192543    155.0\n",
       "Name: weight, Length: 192544, dtype: float64"
      ]
     },
     "execution_count": 11,
     "metadata": {},
     "output_type": "execute_result"
    }
   ],
   "source": [
    "df['weight']"
   ]
  },
  {
   "cell_type": "code",
   "execution_count": 12,
   "id": "74610826",
   "metadata": {},
   "outputs": [
    {
     "data": {
      "text/plain": [
       "array(['vacation', 'other', 'party', 'formal affair', 'wedding', 'date',\n",
       "       'everyday', 'work', nan, 'party: cocktail'], dtype=object)"
      ]
     },
     "execution_count": 12,
     "metadata": {},
     "output_type": "execute_result"
    }
   ],
   "source": [
    "## 6. check for unique in rented for\n",
    "df['rented for'].unique()"
   ]
  },
  {
   "cell_type": "code",
   "execution_count": 13,
   "id": "28def39c",
   "metadata": {},
   "outputs": [],
   "source": [
    "df['rented for']=df['rented for'].str.replace('party: cocktail','party')"
   ]
  },
  {
   "cell_type": "code",
   "execution_count": 14,
   "id": "016b540b",
   "metadata": {},
   "outputs": [
    {
     "data": {
      "text/plain": [
       "array(['vacation', 'other', 'party', 'formal affair', 'wedding', 'date',\n",
       "       'everyday', 'work', nan], dtype=object)"
      ]
     },
     "execution_count": 14,
     "metadata": {},
     "output_type": "execute_result"
    }
   ],
   "source": [
    "df['rented for'].unique()"
   ]
  },
  {
   "cell_type": "code",
   "execution_count": 15,
   "id": "f3115862",
   "metadata": {},
   "outputs": [],
   "source": [
    "## 7. convert height to inches, float data type\n",
    "df['height']=(df['height'].str.split(\"'\",expand=True)[0].astype(float))*12+df['height'].str.split(\"'\",expand=True)[1].str.split('\"',expand=True)[0].astype(float)\n",
    "#def parse_ht(height):\n",
    "    # format: 7' 0.0\"\n",
    "#    ht_ = ht.split(\"' \")\n",
    "#    ft_ = float(ht_[0])\n",
    "#    in_ = float(ht_[1].replace(\"\\\"\",\"\"))\n",
    "#    return (12*ft_) + in_\n",
    "\n",
    "#print df[\"height\"].apply(lambda x:parse_ht(x))"
   ]
  },
  {
   "cell_type": "code",
   "execution_count": 16,
   "id": "b95c050f",
   "metadata": {},
   "outputs": [
    {
     "data": {
      "text/plain": [
       "0         68.0\n",
       "1         66.0\n",
       "2         64.0\n",
       "3         65.0\n",
       "4         69.0\n",
       "          ... \n",
       "192539    69.0\n",
       "192540    61.0\n",
       "192541    68.0\n",
       "192542    66.0\n",
       "192543    66.0\n",
       "Name: height, Length: 192544, dtype: float64"
      ]
     },
     "execution_count": 16,
     "metadata": {},
     "output_type": "execute_result"
    }
   ],
   "source": [
    "df['height']"
   ]
  },
  {
   "cell_type": "code",
   "execution_count": 17,
   "id": "e358d263",
   "metadata": {},
   "outputs": [
    {
     "data": {
      "text/plain": [
       "Unnamed: 0         0.000000\n",
       "fit                0.000000\n",
       "bust size          9.561970\n",
       "weight            15.571506\n",
       "rating             0.042588\n",
       "rented for         0.005194\n",
       "review_text        0.032200\n",
       "body type          7.601899\n",
       "review_summary     0.179180\n",
       "category           0.000000\n",
       "height             0.351608\n",
       "size               0.000000\n",
       "age                0.498587\n",
       "dtype: float64"
      ]
     },
     "execution_count": 17,
     "metadata": {},
     "output_type": "execute_result"
    }
   ],
   "source": [
    "## 8. check for missing values, replace with appropriate value\n",
    "df.isna().sum()/len(df)*100"
   ]
  },
  {
   "cell_type": "code",
   "execution_count": 18,
   "id": "1166746c",
   "metadata": {},
   "outputs": [
    {
     "data": {
      "text/html": [
       "<div>\n",
       "<style scoped>\n",
       "    .dataframe tbody tr th:only-of-type {\n",
       "        vertical-align: middle;\n",
       "    }\n",
       "\n",
       "    .dataframe tbody tr th {\n",
       "        vertical-align: top;\n",
       "    }\n",
       "\n",
       "    .dataframe thead th {\n",
       "        text-align: right;\n",
       "    }\n",
       "</style>\n",
       "<table border=\"1\" class=\"dataframe\">\n",
       "  <thead>\n",
       "    <tr style=\"text-align: right;\">\n",
       "      <th></th>\n",
       "      <th>Unnamed: 0</th>\n",
       "      <th>fit</th>\n",
       "      <th>bust size</th>\n",
       "      <th>weight</th>\n",
       "      <th>rating</th>\n",
       "      <th>rented for</th>\n",
       "      <th>review_text</th>\n",
       "      <th>body type</th>\n",
       "      <th>review_summary</th>\n",
       "      <th>category</th>\n",
       "      <th>height</th>\n",
       "      <th>size</th>\n",
       "      <th>age</th>\n",
       "    </tr>\n",
       "  </thead>\n",
       "  <tbody>\n",
       "    <tr>\n",
       "      <th>0</th>\n",
       "      <td>0</td>\n",
       "      <td>fit</td>\n",
       "      <td>34d</td>\n",
       "      <td>137.0</td>\n",
       "      <td>10.0</td>\n",
       "      <td>vacation</td>\n",
       "      <td>An adorable romper! Belt and zipper were a lit...</td>\n",
       "      <td>hourglass</td>\n",
       "      <td>So many compliments!</td>\n",
       "      <td>romper</td>\n",
       "      <td>68.0</td>\n",
       "      <td>14</td>\n",
       "      <td>28.0</td>\n",
       "    </tr>\n",
       "    <tr>\n",
       "      <th>1</th>\n",
       "      <td>1</td>\n",
       "      <td>fit</td>\n",
       "      <td>34b</td>\n",
       "      <td>132.0</td>\n",
       "      <td>10.0</td>\n",
       "      <td>other</td>\n",
       "      <td>I rented this dress for a photo shoot. The the...</td>\n",
       "      <td>straight &amp; narrow</td>\n",
       "      <td>I felt so glamourous!!!</td>\n",
       "      <td>gown</td>\n",
       "      <td>66.0</td>\n",
       "      <td>12</td>\n",
       "      <td>36.0</td>\n",
       "    </tr>\n",
       "    <tr>\n",
       "      <th>2</th>\n",
       "      <td>2</td>\n",
       "      <td>fit</td>\n",
       "      <td>34b</td>\n",
       "      <td>130.0</td>\n",
       "      <td>10.0</td>\n",
       "      <td>party</td>\n",
       "      <td>This hugged in all the right places! It was a ...</td>\n",
       "      <td>hourglass</td>\n",
       "      <td>It was a great time to celebrate the (almost) ...</td>\n",
       "      <td>sheath</td>\n",
       "      <td>64.0</td>\n",
       "      <td>4</td>\n",
       "      <td>116.0</td>\n",
       "    </tr>\n",
       "    <tr>\n",
       "      <th>3</th>\n",
       "      <td>3</td>\n",
       "      <td>fit</td>\n",
       "      <td>34c</td>\n",
       "      <td>135.0</td>\n",
       "      <td>8.0</td>\n",
       "      <td>formal affair</td>\n",
       "      <td>I rented this for my company's black tie award...</td>\n",
       "      <td>pear</td>\n",
       "      <td>Dress arrived on time and in perfect condition.</td>\n",
       "      <td>dress</td>\n",
       "      <td>65.0</td>\n",
       "      <td>8</td>\n",
       "      <td>34.0</td>\n",
       "    </tr>\n",
       "    <tr>\n",
       "      <th>4</th>\n",
       "      <td>4</td>\n",
       "      <td>fit</td>\n",
       "      <td>34b</td>\n",
       "      <td>145.0</td>\n",
       "      <td>10.0</td>\n",
       "      <td>wedding</td>\n",
       "      <td>I have always been petite in my upper body and...</td>\n",
       "      <td>athletic</td>\n",
       "      <td>Was in love with this dress !!!</td>\n",
       "      <td>gown</td>\n",
       "      <td>69.0</td>\n",
       "      <td>12</td>\n",
       "      <td>27.0</td>\n",
       "    </tr>\n",
       "    <tr>\n",
       "      <th>...</th>\n",
       "      <td>...</td>\n",
       "      <td>...</td>\n",
       "      <td>...</td>\n",
       "      <td>...</td>\n",
       "      <td>...</td>\n",
       "      <td>...</td>\n",
       "      <td>...</td>\n",
       "      <td>...</td>\n",
       "      <td>...</td>\n",
       "      <td>...</td>\n",
       "      <td>...</td>\n",
       "      <td>...</td>\n",
       "      <td>...</td>\n",
       "    </tr>\n",
       "    <tr>\n",
       "      <th>192539</th>\n",
       "      <td>192539</td>\n",
       "      <td>fit</td>\n",
       "      <td>34dd</td>\n",
       "      <td>140.0</td>\n",
       "      <td>10.0</td>\n",
       "      <td>work</td>\n",
       "      <td>Fit like a glove!</td>\n",
       "      <td>hourglass</td>\n",
       "      <td>LOVE IT!!! First Item Im thinking of buying!</td>\n",
       "      <td>jumpsuit</td>\n",
       "      <td>69.0</td>\n",
       "      <td>8</td>\n",
       "      <td>42.0</td>\n",
       "    </tr>\n",
       "    <tr>\n",
       "      <th>192540</th>\n",
       "      <td>192540</td>\n",
       "      <td>fit</td>\n",
       "      <td>32c</td>\n",
       "      <td>100.0</td>\n",
       "      <td>10.0</td>\n",
       "      <td>work</td>\n",
       "      <td>The pattern contrast on this dress is really s...</td>\n",
       "      <td>petite</td>\n",
       "      <td>LOVE it!</td>\n",
       "      <td>dress</td>\n",
       "      <td>61.0</td>\n",
       "      <td>4</td>\n",
       "      <td>29.0</td>\n",
       "    </tr>\n",
       "    <tr>\n",
       "      <th>192541</th>\n",
       "      <td>192541</td>\n",
       "      <td>fit</td>\n",
       "      <td>36a</td>\n",
       "      <td>135.0</td>\n",
       "      <td>6.0</td>\n",
       "      <td>everyday</td>\n",
       "      <td>Like the other DVF wraps, the fit on this is f...</td>\n",
       "      <td>straight &amp; narrow</td>\n",
       "      <td>Loud patterning, flattering fit</td>\n",
       "      <td>dress</td>\n",
       "      <td>68.0</td>\n",
       "      <td>8</td>\n",
       "      <td>31.0</td>\n",
       "    </tr>\n",
       "    <tr>\n",
       "      <th>192542</th>\n",
       "      <td>192542</td>\n",
       "      <td>fit</td>\n",
       "      <td>36c</td>\n",
       "      <td>165.0</td>\n",
       "      <td>10.0</td>\n",
       "      <td>wedding</td>\n",
       "      <td>This dress was PERFECTION.  it looked incredib...</td>\n",
       "      <td>pear</td>\n",
       "      <td>loved this dress it was comfortable and photog...</td>\n",
       "      <td>dress</td>\n",
       "      <td>66.0</td>\n",
       "      <td>16</td>\n",
       "      <td>31.0</td>\n",
       "    </tr>\n",
       "    <tr>\n",
       "      <th>192543</th>\n",
       "      <td>192543</td>\n",
       "      <td>fit</td>\n",
       "      <td>36b</td>\n",
       "      <td>155.0</td>\n",
       "      <td>10.0</td>\n",
       "      <td>wedding</td>\n",
       "      <td>This dress was wonderful! I had originally pla...</td>\n",
       "      <td>athletic</td>\n",
       "      <td>I wore this to a beautiful black tie optional ...</td>\n",
       "      <td>gown</td>\n",
       "      <td>66.0</td>\n",
       "      <td>16</td>\n",
       "      <td>30.0</td>\n",
       "    </tr>\n",
       "  </tbody>\n",
       "</table>\n",
       "<p>192544 rows × 13 columns</p>\n",
       "</div>"
      ],
      "text/plain": [
       "        Unnamed: 0  fit bust size  weight  rating     rented for  \\\n",
       "0                0  fit       34d   137.0    10.0       vacation   \n",
       "1                1  fit       34b   132.0    10.0          other   \n",
       "2                2  fit       34b   130.0    10.0          party   \n",
       "3                3  fit       34c   135.0     8.0  formal affair   \n",
       "4                4  fit       34b   145.0    10.0        wedding   \n",
       "...            ...  ...       ...     ...     ...            ...   \n",
       "192539      192539  fit      34dd   140.0    10.0           work   \n",
       "192540      192540  fit       32c   100.0    10.0           work   \n",
       "192541      192541  fit       36a   135.0     6.0       everyday   \n",
       "192542      192542  fit       36c   165.0    10.0        wedding   \n",
       "192543      192543  fit       36b   155.0    10.0        wedding   \n",
       "\n",
       "                                              review_text          body type  \\\n",
       "0       An adorable romper! Belt and zipper were a lit...          hourglass   \n",
       "1       I rented this dress for a photo shoot. The the...  straight & narrow   \n",
       "2       This hugged in all the right places! It was a ...          hourglass   \n",
       "3       I rented this for my company's black tie award...               pear   \n",
       "4       I have always been petite in my upper body and...           athletic   \n",
       "...                                                   ...                ...   \n",
       "192539                                  Fit like a glove!          hourglass   \n",
       "192540  The pattern contrast on this dress is really s...             petite   \n",
       "192541  Like the other DVF wraps, the fit on this is f...  straight & narrow   \n",
       "192542  This dress was PERFECTION.  it looked incredib...               pear   \n",
       "192543  This dress was wonderful! I had originally pla...           athletic   \n",
       "\n",
       "                                           review_summary  category  height  \\\n",
       "0                                    So many compliments!    romper    68.0   \n",
       "1                                 I felt so glamourous!!!      gown    66.0   \n",
       "2       It was a great time to celebrate the (almost) ...    sheath    64.0   \n",
       "3        Dress arrived on time and in perfect condition.      dress    65.0   \n",
       "4                         Was in love with this dress !!!      gown    69.0   \n",
       "...                                                   ...       ...     ...   \n",
       "192539       LOVE IT!!! First Item Im thinking of buying!  jumpsuit    69.0   \n",
       "192540                                           LOVE it!     dress    61.0   \n",
       "192541                    Loud patterning, flattering fit     dress    68.0   \n",
       "192542  loved this dress it was comfortable and photog...     dress    66.0   \n",
       "192543  I wore this to a beautiful black tie optional ...      gown    66.0   \n",
       "\n",
       "        size    age  \n",
       "0         14   28.0  \n",
       "1         12   36.0  \n",
       "2          4  116.0  \n",
       "3          8   34.0  \n",
       "4         12   27.0  \n",
       "...      ...    ...  \n",
       "192539     8   42.0  \n",
       "192540     4   29.0  \n",
       "192541     8   31.0  \n",
       "192542    16   31.0  \n",
       "192543    16   30.0  \n",
       "\n",
       "[192544 rows x 13 columns]"
      ]
     },
     "execution_count": 18,
     "metadata": {},
     "output_type": "execute_result"
    }
   ],
   "source": [
    "for col in ['bust size','weight','rating','rented for','body type','height','age']:\n",
    "    df[col].fillna(df[col].mode()[0],inplace=True)\n",
    "df"
   ]
  },
  {
   "cell_type": "code",
   "execution_count": 19,
   "id": "63289564",
   "metadata": {},
   "outputs": [
    {
     "data": {
      "text/plain": [
       "Unnamed: 0        0.00000\n",
       "fit               0.00000\n",
       "bust size         0.00000\n",
       "weight            0.00000\n",
       "rating            0.00000\n",
       "rented for        0.00000\n",
       "review_text       0.03220\n",
       "body type         0.00000\n",
       "review_summary    0.17918\n",
       "category          0.00000\n",
       "height            0.00000\n",
       "size              0.00000\n",
       "age               0.00000\n",
       "dtype: float64"
      ]
     },
     "execution_count": 19,
     "metadata": {},
     "output_type": "execute_result"
    }
   ],
   "source": [
    "df.isna().sum()/len(df)*100"
   ]
  },
  {
   "cell_type": "code",
   "execution_count": 20,
   "id": "1b7119a2",
   "metadata": {},
   "outputs": [
    {
     "data": {
      "text/html": [
       "<div>\n",
       "<style scoped>\n",
       "    .dataframe tbody tr th:only-of-type {\n",
       "        vertical-align: middle;\n",
       "    }\n",
       "\n",
       "    .dataframe tbody tr th {\n",
       "        vertical-align: top;\n",
       "    }\n",
       "\n",
       "    .dataframe thead th {\n",
       "        text-align: right;\n",
       "    }\n",
       "</style>\n",
       "<table border=\"1\" class=\"dataframe\">\n",
       "  <thead>\n",
       "    <tr style=\"text-align: right;\">\n",
       "      <th></th>\n",
       "      <th>Unnamed: 0</th>\n",
       "      <th>weight</th>\n",
       "      <th>rating</th>\n",
       "      <th>height</th>\n",
       "      <th>size</th>\n",
       "      <th>age</th>\n",
       "    </tr>\n",
       "  </thead>\n",
       "  <tbody>\n",
       "    <tr>\n",
       "      <th>count</th>\n",
       "      <td>192544.000000</td>\n",
       "      <td>192544.000000</td>\n",
       "      <td>192544.000000</td>\n",
       "      <td>192544.000000</td>\n",
       "      <td>192544.000000</td>\n",
       "      <td>192544.000000</td>\n",
       "    </tr>\n",
       "    <tr>\n",
       "      <th>mean</th>\n",
       "      <td>96271.500000</td>\n",
       "      <td>136.240709</td>\n",
       "      <td>9.092758</td>\n",
       "      <td>65.306013</td>\n",
       "      <td>12.245175</td>\n",
       "      <td>33.856703</td>\n",
       "    </tr>\n",
       "    <tr>\n",
       "      <th>std</th>\n",
       "      <td>55582.809453</td>\n",
       "      <td>20.300468</td>\n",
       "      <td>1.429862</td>\n",
       "      <td>2.659925</td>\n",
       "      <td>8.494877</td>\n",
       "      <td>8.040513</td>\n",
       "    </tr>\n",
       "    <tr>\n",
       "      <th>min</th>\n",
       "      <td>0.000000</td>\n",
       "      <td>50.000000</td>\n",
       "      <td>2.000000</td>\n",
       "      <td>54.000000</td>\n",
       "      <td>0.000000</td>\n",
       "      <td>0.000000</td>\n",
       "    </tr>\n",
       "    <tr>\n",
       "      <th>25%</th>\n",
       "      <td>48135.750000</td>\n",
       "      <td>125.000000</td>\n",
       "      <td>8.000000</td>\n",
       "      <td>63.000000</td>\n",
       "      <td>8.000000</td>\n",
       "      <td>29.000000</td>\n",
       "    </tr>\n",
       "    <tr>\n",
       "      <th>50%</th>\n",
       "      <td>96271.500000</td>\n",
       "      <td>130.000000</td>\n",
       "      <td>10.000000</td>\n",
       "      <td>65.000000</td>\n",
       "      <td>12.000000</td>\n",
       "      <td>32.000000</td>\n",
       "    </tr>\n",
       "    <tr>\n",
       "      <th>75%</th>\n",
       "      <td>144407.250000</td>\n",
       "      <td>145.000000</td>\n",
       "      <td>10.000000</td>\n",
       "      <td>67.000000</td>\n",
       "      <td>16.000000</td>\n",
       "      <td>37.000000</td>\n",
       "    </tr>\n",
       "    <tr>\n",
       "      <th>max</th>\n",
       "      <td>192543.000000</td>\n",
       "      <td>300.000000</td>\n",
       "      <td>10.000000</td>\n",
       "      <td>78.000000</td>\n",
       "      <td>58.000000</td>\n",
       "      <td>117.000000</td>\n",
       "    </tr>\n",
       "  </tbody>\n",
       "</table>\n",
       "</div>"
      ],
      "text/plain": [
       "          Unnamed: 0         weight         rating         height  \\\n",
       "count  192544.000000  192544.000000  192544.000000  192544.000000   \n",
       "mean    96271.500000     136.240709       9.092758      65.306013   \n",
       "std     55582.809453      20.300468       1.429862       2.659925   \n",
       "min         0.000000      50.000000       2.000000      54.000000   \n",
       "25%     48135.750000     125.000000       8.000000      63.000000   \n",
       "50%     96271.500000     130.000000      10.000000      65.000000   \n",
       "75%    144407.250000     145.000000      10.000000      67.000000   \n",
       "max    192543.000000     300.000000      10.000000      78.000000   \n",
       "\n",
       "                size            age  \n",
       "count  192544.000000  192544.000000  \n",
       "mean       12.245175      33.856703  \n",
       "std         8.494877       8.040513  \n",
       "min         0.000000       0.000000  \n",
       "25%         8.000000      29.000000  \n",
       "50%        12.000000      32.000000  \n",
       "75%        16.000000      37.000000  \n",
       "max        58.000000     117.000000  "
      ]
     },
     "execution_count": 20,
     "metadata": {},
     "output_type": "execute_result"
    }
   ],
   "source": [
    "## 9. Check stastical summary\n",
    "df.describe()"
   ]
  },
  {
   "cell_type": "markdown",
   "id": "7c528e69",
   "metadata": {},
   "source": [
    "In the summary we can find:\n",
    "There are total 192544 entries\n",
    "Min weight is 50 lbs,max weight is 300 lbs,average weight is 136.24 lbs.\n",
    "Min rating is 2 while max is 10,more than 50% entries contain 10 rating\n",
    "Min height is 54 inch while max is 78 inch,maximum entries have height more than mean height of 65.30\n",
    "Min age is 0 while max age is 117 ,maximum entries are above age of 30"
   ]
  },
  {
   "cell_type": "code",
   "execution_count": 21,
   "id": "716f8e0e",
   "metadata": {},
   "outputs": [
    {
     "data": {
      "text/plain": [
       "fit    bust size  rented for     body type  category\n",
       "fit    34b        wedding        hourglass  dress       0.009785\n",
       "                  formal affair  hourglass  gown        0.008627\n",
       "                  wedding        athletic   dress       0.007557\n",
       "                  formal affair  athletic   gown        0.006388\n",
       "                  party          hourglass  dress       0.006238\n",
       "                                                          ...   \n",
       "       38d        formal affair  apple      shift       0.000005\n",
       "                                 athletic   maxi        0.000005\n",
       "                                 full bust  jumpsuit    0.000005\n",
       "                                            maxi        0.000005\n",
       "small  46ddd/e    formal affair  apple      dress       0.000005\n",
       "Length: 20655, dtype: float64"
      ]
     },
     "execution_count": 21,
     "metadata": {},
     "output_type": "execute_result"
    }
   ],
   "source": [
    "df[['fit','bust size','rented for','body type','category']].value_counts(normalize=True)"
   ]
  },
  {
   "cell_type": "code",
   "execution_count": 22,
   "id": "48ee9424",
   "metadata": {},
   "outputs": [
    {
     "data": {
      "text/plain": [
       "array(['fit', 'small', 'large'], dtype=object)"
      ]
     },
     "execution_count": 22,
     "metadata": {},
     "output_type": "execute_result"
    }
   ],
   "source": [
    "df['fit'].unique()"
   ]
  },
  {
   "cell_type": "code",
   "execution_count": 23,
   "id": "73284941",
   "metadata": {},
   "outputs": [
    {
     "data": {
      "text/plain": [
       "array(['34d', '34b', '34c', '32b', '34d+', '36d', '36a', '32d+', '36c',\n",
       "       '32c', '32dd', '30dd', '32d', '36b', '34a', '34dd', '40ddd/e',\n",
       "       '32a', '38d+', '38c', '34ddd/e', '38a', '38b', '38d', '36ddd/e',\n",
       "       '38dd', '38f', '42dd', '36dd', '40g', '40dd', '28f', '30ddd/e',\n",
       "       '32ddd/e', '28b', '36d+', '40d', '28dd', '34f', '42c', '30d',\n",
       "       '30b', '42d', '34aa', '32aa', '36f', '28c', '40b', '36aa', '34g',\n",
       "       '32f', '42ddd/e', '40c', '28g', '28aa', '36g', '30a', '44ddd/e',\n",
       "       '30c', '30aa', '44dd', '32i', '32g', '30g', '38h', '30h', '34j',\n",
       "       '38ddd/e', '32h', '28a', '44d', '40h', '38g', '34h', '36j', '40f',\n",
       "       '36h', '28ddd/e', '44f', '34i', '30f', '36i', '30i', '28h', '42b',\n",
       "       '42j', '32j', '46c', '48d', '38aa', '38i', '48dd', '28d', '28i',\n",
       "       '46ddd/e', '42g', '44c', '42f', '40j', '38j', '46f', '44b', '44g',\n",
       "       '42h', '40i', '44h'], dtype=object)"
      ]
     },
     "execution_count": 23,
     "metadata": {},
     "output_type": "execute_result"
    }
   ],
   "source": [
    "df['bust size'].unique()"
   ]
  },
  {
   "cell_type": "code",
   "execution_count": 24,
   "id": "055867ee",
   "metadata": {},
   "outputs": [
    {
     "data": {
      "text/plain": [
       "array(['vacation', 'other', 'party', 'formal affair', 'wedding', 'date',\n",
       "       'everyday', 'work'], dtype=object)"
      ]
     },
     "execution_count": 24,
     "metadata": {},
     "output_type": "execute_result"
    }
   ],
   "source": [
    "df['rented for'].unique()"
   ]
  },
  {
   "cell_type": "code",
   "execution_count": 25,
   "id": "7cff9e7d",
   "metadata": {},
   "outputs": [
    {
     "data": {
      "text/plain": [
       "array(['hourglass', 'straight & narrow', 'pear', 'athletic', 'full bust',\n",
       "       'petite', 'apple'], dtype=object)"
      ]
     },
     "execution_count": 25,
     "metadata": {},
     "output_type": "execute_result"
    }
   ],
   "source": [
    "df['body type'].unique()"
   ]
  },
  {
   "cell_type": "code",
   "execution_count": 26,
   "id": "60ab3a97",
   "metadata": {},
   "outputs": [
    {
     "data": {
      "text/plain": [
       "array(['romper', 'gown', 'sheath', 'dress', 'leggings', 'top', 'jumpsuit',\n",
       "       'sweater', 'jacket', 'shirtdress', 'maxi', 'shift', 'pants',\n",
       "       'shirt', 'mini', 'skirt', 'pullover', 'blouse', 'suit', 'coat',\n",
       "       'trench', 'bomber', 'cape', 'blazer', 'vest', 'duster', 'ballgown',\n",
       "       'tank', 'poncho', 'frock', 'tunic', 'cardigan', 'culottes', 'down',\n",
       "       'trouser', 'midi', 'pant', 'legging', 'print', 'knit', 'culotte',\n",
       "       'sweatshirt', 'peacoat', 'kaftan', 'overalls', 'jogger', 'tee',\n",
       "       'combo', 'henley', 'cami', 'blouson', 'turtleneck', 'trousers',\n",
       "       'overcoat', 'hoodie', 't-shirt', 'caftan', 'tight', 'kimono',\n",
       "       'for', 'crewneck', 'skirts', 'parka', 'buttondown', 'skort',\n",
       "       'sweatershirt', 'sweatpants', 'jeans'], dtype=object)"
      ]
     },
     "execution_count": 26,
     "metadata": {},
     "output_type": "execute_result"
    }
   ],
   "source": [
    "df['category'].unique()"
   ]
  },
  {
   "cell_type": "code",
   "execution_count": 27,
   "id": "8d3bb89b",
   "metadata": {},
   "outputs": [
    {
     "data": {
      "image/png": "[encoded data removed]",
      "text/plain": [
       "<Figure size 432x288 with 1 Axes>"
      ]
     },
     "metadata": {
      "needs_background": "light"
     },
     "output_type": "display_data"
    }
   ],
   "source": [
    "## 10. Check for outliers in age, replace them appropriately\n",
    "sns.boxplot(df['age'])\n",
    "plt.show()"
   ]
  },
  {
   "cell_type": "code",
   "execution_count": 28,
   "id": "fc21f598",
   "metadata": {},
   "outputs": [
    {
     "data": {
      "image/png": "[encoded data removed]",
      "text/plain": [
       "<Figure size 432x288 with 1 Axes>"
      ]
     },
     "metadata": {
      "needs_background": "light"
     },
     "output_type": "display_data"
    }
   ],
   "source": [
    "## let use log transformation and transform the column age and visualize the distribution\n",
    "age_log = np.log(df['age'])\n",
    "sns.boxplot(age_log)\n",
    "plt.show()"
   ]
  },
  {
   "cell_type": "code",
   "execution_count": 29,
   "id": "0ce6ae50",
   "metadata": {
    "scrolled": true
   },
   "outputs": [
    {
     "data": {
      "image/png": "[encoded data removed]",
      "text/plain": [
       "<Figure size 1296x360 with 1 Axes>"
      ]
     },
     "metadata": {
      "needs_background": "light"
     },
     "output_type": "display_data"
    }
   ],
   "source": [
    "## 11.Check the distribution of the different categories in the column 'rented for'\n",
    "plt.figure(figsize=(18,5))\n",
    "sns.countplot(df['rented for'])\n",
    "plt.show()"
   ]
  },
  {
   "cell_type": "markdown",
   "id": "48ab1137",
   "metadata": {},
   "source": [
    "● Data Preparation for model building: [ Score: 2 point ]\n",
    "12. Encode the categorical variables in the dataset. (1)\n",
    "13. Standardize the data, so that the values are within a particular range. (1)"
   ]
  },
  {
   "cell_type": "code",
   "execution_count": 30,
   "id": "4c27d0c0",
   "metadata": {},
   "outputs": [],
   "source": [
    "## 12. Encode the data\n",
    "df1=df"
   ]
  },
  {
   "cell_type": "code",
   "execution_count": 32,
   "id": "b47e9229",
   "metadata": {},
   "outputs": [
    {
     "data": {
      "text/plain": [
       "Index(['fit', 'bust size', 'rented for', 'review_text', 'body type',\n",
       "       'review_summary', 'category'],\n",
       "      dtype='object')"
      ]
     },
     "execution_count": 32,
     "metadata": {},
     "output_type": "execute_result"
    }
   ],
   "source": [
    "df1.select_dtypes('object').columns"
   ]
  },
  {
   "cell_type": "code",
   "execution_count": 33,
   "id": "8e7718c8",
   "metadata": {},
   "outputs": [],
   "source": [
    "from sklearn.preprocessing import LabelEncoder\n",
    "for col in df1.select_dtypes('object').columns:\n",
    "    le=LabelEncoder()\n",
    "    df1[col]=le.fit_transform(df1[col])"
   ]
  },
  {
   "cell_type": "code",
   "execution_count": 34,
   "id": "9394db69",
   "metadata": {},
   "outputs": [
    {
     "data": {
      "text/html": [
       "<div>\n",
       "<style scoped>\n",
       "    .dataframe tbody tr th:only-of-type {\n",
       "        vertical-align: middle;\n",
       "    }\n",
       "\n",
       "    .dataframe tbody tr th {\n",
       "        vertical-align: top;\n",
       "    }\n",
       "\n",
       "    .dataframe thead th {\n",
       "        text-align: right;\n",
       "    }\n",
       "</style>\n",
       "<table border=\"1\" class=\"dataframe\">\n",
       "  <thead>\n",
       "    <tr style=\"text-align: right;\">\n",
       "      <th></th>\n",
       "      <th>Unnamed: 0</th>\n",
       "      <th>fit</th>\n",
       "      <th>bust size</th>\n",
       "      <th>weight</th>\n",
       "      <th>rating</th>\n",
       "      <th>rented for</th>\n",
       "      <th>review_text</th>\n",
       "      <th>body type</th>\n",
       "      <th>review_summary</th>\n",
       "      <th>category</th>\n",
       "      <th>height</th>\n",
       "      <th>size</th>\n",
       "      <th>age</th>\n",
       "    </tr>\n",
       "  </thead>\n",
       "  <tbody>\n",
       "    <tr>\n",
       "      <th>0</th>\n",
       "      <td>0</td>\n",
       "      <td>0</td>\n",
       "      <td>39</td>\n",
       "      <td>137.0</td>\n",
       "      <td>10.0</td>\n",
       "      <td>5</td>\n",
       "      <td>4364</td>\n",
       "      <td>3</td>\n",
       "      <td>109622</td>\n",
       "      <td>44</td>\n",
       "      <td>68.0</td>\n",
       "      <td>14</td>\n",
       "      <td>28.0</td>\n",
       "    </tr>\n",
       "    <tr>\n",
       "      <th>1</th>\n",
       "      <td>1</td>\n",
       "      <td>0</td>\n",
       "      <td>37</td>\n",
       "      <td>132.0</td>\n",
       "      <td>10.0</td>\n",
       "      <td>3</td>\n",
       "      <td>61040</td>\n",
       "      <td>6</td>\n",
       "      <td>59681</td>\n",
       "      <td>20</td>\n",
       "      <td>66.0</td>\n",
       "      <td>12</td>\n",
       "      <td>36.0</td>\n",
       "    </tr>\n",
       "    <tr>\n",
       "      <th>2</th>\n",
       "      <td>2</td>\n",
       "      <td>0</td>\n",
       "      <td>37</td>\n",
       "      <td>130.0</td>\n",
       "      <td>10.0</td>\n",
       "      <td>4</td>\n",
       "      <td>162991</td>\n",
       "      <td>3</td>\n",
       "      <td>74243</td>\n",
       "      <td>45</td>\n",
       "      <td>64.0</td>\n",
       "      <td>4</td>\n",
       "      <td>116.0</td>\n",
       "    </tr>\n",
       "    <tr>\n",
       "      <th>3</th>\n",
       "      <td>3</td>\n",
       "      <td>0</td>\n",
       "      <td>38</td>\n",
       "      <td>135.0</td>\n",
       "      <td>8.0</td>\n",
       "      <td>2</td>\n",
       "      <td>63856</td>\n",
       "      <td>4</td>\n",
       "      <td>28142</td>\n",
       "      <td>16</td>\n",
       "      <td>65.0</td>\n",
       "      <td>8</td>\n",
       "      <td>34.0</td>\n",
       "    </tr>\n",
       "    <tr>\n",
       "      <th>4</th>\n",
       "      <td>4</td>\n",
       "      <td>0</td>\n",
       "      <td>37</td>\n",
       "      <td>145.0</td>\n",
       "      <td>10.0</td>\n",
       "      <td>6</td>\n",
       "      <td>42647</td>\n",
       "      <td>1</td>\n",
       "      <td>140372</td>\n",
       "      <td>20</td>\n",
       "      <td>69.0</td>\n",
       "      <td>12</td>\n",
       "      <td>27.0</td>\n",
       "    </tr>\n",
       "    <tr>\n",
       "      <th>...</th>\n",
       "      <td>...</td>\n",
       "      <td>...</td>\n",
       "      <td>...</td>\n",
       "      <td>...</td>\n",
       "      <td>...</td>\n",
       "      <td>...</td>\n",
       "      <td>...</td>\n",
       "      <td>...</td>\n",
       "      <td>...</td>\n",
       "      <td>...</td>\n",
       "      <td>...</td>\n",
       "      <td>...</td>\n",
       "      <td>...</td>\n",
       "    </tr>\n",
       "    <tr>\n",
       "      <th>192539</th>\n",
       "      <td>192539</td>\n",
       "      <td>0</td>\n",
       "      <td>41</td>\n",
       "      <td>140.0</td>\n",
       "      <td>10.0</td>\n",
       "      <td>7</td>\n",
       "      <td>17392</td>\n",
       "      <td>3</td>\n",
       "      <td>76983</td>\n",
       "      <td>26</td>\n",
       "      <td>69.0</td>\n",
       "      <td>8</td>\n",
       "      <td>42.0</td>\n",
       "    </tr>\n",
       "    <tr>\n",
       "      <th>192540</th>\n",
       "      <td>192540</td>\n",
       "      <td>0</td>\n",
       "      <td>25</td>\n",
       "      <td>100.0</td>\n",
       "      <td>10.0</td>\n",
       "      <td>7</td>\n",
       "      <td>138452</td>\n",
       "      <td>5</td>\n",
       "      <td>77152</td>\n",
       "      <td>16</td>\n",
       "      <td>61.0</td>\n",
       "      <td>4</td>\n",
       "      <td>29.0</td>\n",
       "    </tr>\n",
       "    <tr>\n",
       "      <th>192541</th>\n",
       "      <td>192541</td>\n",
       "      <td>0</td>\n",
       "      <td>48</td>\n",
       "      <td>135.0</td>\n",
       "      <td>6.0</td>\n",
       "      <td>1</td>\n",
       "      <td>95494</td>\n",
       "      <td>6</td>\n",
       "      <td>79810</td>\n",
       "      <td>16</td>\n",
       "      <td>68.0</td>\n",
       "      <td>8</td>\n",
       "      <td>31.0</td>\n",
       "    </tr>\n",
       "    <tr>\n",
       "      <th>192542</th>\n",
       "      <td>192542</td>\n",
       "      <td>0</td>\n",
       "      <td>51</td>\n",
       "      <td>165.0</td>\n",
       "      <td>10.0</td>\n",
       "      <td>6</td>\n",
       "      <td>153973</td>\n",
       "      <td>4</td>\n",
       "      <td>151017</td>\n",
       "      <td>16</td>\n",
       "      <td>66.0</td>\n",
       "      <td>16</td>\n",
       "      <td>31.0</td>\n",
       "    </tr>\n",
       "    <tr>\n",
       "      <th>192543</th>\n",
       "      <td>192543</td>\n",
       "      <td>0</td>\n",
       "      <td>50</td>\n",
       "      <td>155.0</td>\n",
       "      <td>10.0</td>\n",
       "      <td>6</td>\n",
       "      <td>161968</td>\n",
       "      <td>1</td>\n",
       "      <td>71028</td>\n",
       "      <td>20</td>\n",
       "      <td>66.0</td>\n",
       "      <td>16</td>\n",
       "      <td>30.0</td>\n",
       "    </tr>\n",
       "  </tbody>\n",
       "</table>\n",
       "<p>192544 rows × 13 columns</p>\n",
       "</div>"
      ],
      "text/plain": [
       "        Unnamed: 0  fit  bust size  weight  rating  rented for  review_text  \\\n",
       "0                0    0         39   137.0    10.0           5         4364   \n",
       "1                1    0         37   132.0    10.0           3        61040   \n",
       "2                2    0         37   130.0    10.0           4       162991   \n",
       "3                3    0         38   135.0     8.0           2        63856   \n",
       "4                4    0         37   145.0    10.0           6        42647   \n",
       "...            ...  ...        ...     ...     ...         ...          ...   \n",
       "192539      192539    0         41   140.0    10.0           7        17392   \n",
       "192540      192540    0         25   100.0    10.0           7       138452   \n",
       "192541      192541    0         48   135.0     6.0           1        95494   \n",
       "192542      192542    0         51   165.0    10.0           6       153973   \n",
       "192543      192543    0         50   155.0    10.0           6       161968   \n",
       "\n",
       "        body type  review_summary  category  height  size    age  \n",
       "0               3          109622        44    68.0    14   28.0  \n",
       "1               6           59681        20    66.0    12   36.0  \n",
       "2               3           74243        45    64.0     4  116.0  \n",
       "3               4           28142        16    65.0     8   34.0  \n",
       "4               1          140372        20    69.0    12   27.0  \n",
       "...           ...             ...       ...     ...   ...    ...  \n",
       "192539          3           76983        26    69.0     8   42.0  \n",
       "192540          5           77152        16    61.0     4   29.0  \n",
       "192541          6           79810        16    68.0     8   31.0  \n",
       "192542          4          151017        16    66.0    16   31.0  \n",
       "192543          1           71028        20    66.0    16   30.0  \n",
       "\n",
       "[192544 rows x 13 columns]"
      ]
     },
     "execution_count": 34,
     "metadata": {},
     "output_type": "execute_result"
    }
   ],
   "source": [
    "df1"
   ]
  },
  {
   "cell_type": "code",
   "execution_count": 35,
   "id": "143e9ddd",
   "metadata": {},
   "outputs": [
    {
     "name": "stdout",
     "output_type": "stream",
     "text": [
      "All features are now scaled\n"
     ]
    }
   ],
   "source": [
    "#13. Standardize the data, so that the values are within a particular range.\n",
    "ds=df.select_dtypes(include=['int64','float64'])\n",
    "scaler = StandardScaler()\n",
    "scaler.fit(ds)\n",
    "scaled_ds =pd.DataFrame(scaler.transform(ds),columns=ds.columns)\n",
    "print(\"All features are now scaled\")"
   ]
  },
  {
   "cell_type": "code",
   "execution_count": 36,
   "id": "5e156d34",
   "metadata": {},
   "outputs": [
    {
     "data": {
      "text/html": [
       "<div>\n",
       "<style scoped>\n",
       "    .dataframe tbody tr th:only-of-type {\n",
       "        vertical-align: middle;\n",
       "    }\n",
       "\n",
       "    .dataframe tbody tr th {\n",
       "        vertical-align: top;\n",
       "    }\n",
       "\n",
       "    .dataframe thead th {\n",
       "        text-align: right;\n",
       "    }\n",
       "</style>\n",
       "<table border=\"1\" class=\"dataframe\">\n",
       "  <thead>\n",
       "    <tr style=\"text-align: right;\">\n",
       "      <th></th>\n",
       "      <th>Unnamed: 0</th>\n",
       "      <th>weight</th>\n",
       "      <th>rating</th>\n",
       "      <th>height</th>\n",
       "      <th>size</th>\n",
       "      <th>age</th>\n",
       "    </tr>\n",
       "  </thead>\n",
       "  <tbody>\n",
       "    <tr>\n",
       "      <th>0</th>\n",
       "      <td>-1.732042</td>\n",
       "      <td>0.037403</td>\n",
       "      <td>0.634498</td>\n",
       "      <td>1.012808</td>\n",
       "      <td>0.206575</td>\n",
       "      <td>-0.728401</td>\n",
       "    </tr>\n",
       "    <tr>\n",
       "      <th>1</th>\n",
       "      <td>-1.732024</td>\n",
       "      <td>-0.208898</td>\n",
       "      <td>0.634498</td>\n",
       "      <td>0.260905</td>\n",
       "      <td>-0.028862</td>\n",
       "      <td>0.266563</td>\n",
       "    </tr>\n",
       "    <tr>\n",
       "      <th>2</th>\n",
       "      <td>-1.732006</td>\n",
       "      <td>-0.307418</td>\n",
       "      <td>0.634498</td>\n",
       "      <td>-0.490998</td>\n",
       "      <td>-0.970608</td>\n",
       "      <td>10.216203</td>\n",
       "    </tr>\n",
       "    <tr>\n",
       "      <th>3</th>\n",
       "      <td>-1.731988</td>\n",
       "      <td>-0.061117</td>\n",
       "      <td>-0.764242</td>\n",
       "      <td>-0.115046</td>\n",
       "      <td>-0.499735</td>\n",
       "      <td>0.017822</td>\n",
       "    </tr>\n",
       "    <tr>\n",
       "      <th>4</th>\n",
       "      <td>-1.731970</td>\n",
       "      <td>0.431483</td>\n",
       "      <td>0.634498</td>\n",
       "      <td>1.388760</td>\n",
       "      <td>-0.028862</td>\n",
       "      <td>-0.852772</td>\n",
       "    </tr>\n",
       "    <tr>\n",
       "      <th>...</th>\n",
       "      <td>...</td>\n",
       "      <td>...</td>\n",
       "      <td>...</td>\n",
       "      <td>...</td>\n",
       "      <td>...</td>\n",
       "      <td>...</td>\n",
       "    </tr>\n",
       "    <tr>\n",
       "      <th>192539</th>\n",
       "      <td>1.731970</td>\n",
       "      <td>0.185183</td>\n",
       "      <td>0.634498</td>\n",
       "      <td>1.388760</td>\n",
       "      <td>-0.499735</td>\n",
       "      <td>1.012786</td>\n",
       "    </tr>\n",
       "    <tr>\n",
       "      <th>192540</th>\n",
       "      <td>1.731988</td>\n",
       "      <td>-1.785220</td>\n",
       "      <td>0.634498</td>\n",
       "      <td>-1.618852</td>\n",
       "      <td>-0.970608</td>\n",
       "      <td>-0.604031</td>\n",
       "    </tr>\n",
       "    <tr>\n",
       "      <th>192541</th>\n",
       "      <td>1.732006</td>\n",
       "      <td>-0.061117</td>\n",
       "      <td>-2.162982</td>\n",
       "      <td>1.012808</td>\n",
       "      <td>-0.499735</td>\n",
       "      <td>-0.355290</td>\n",
       "    </tr>\n",
       "    <tr>\n",
       "      <th>192542</th>\n",
       "      <td>1.732024</td>\n",
       "      <td>1.416685</td>\n",
       "      <td>0.634498</td>\n",
       "      <td>0.260905</td>\n",
       "      <td>0.442012</td>\n",
       "      <td>-0.355290</td>\n",
       "    </tr>\n",
       "    <tr>\n",
       "      <th>192543</th>\n",
       "      <td>1.732042</td>\n",
       "      <td>0.924084</td>\n",
       "      <td>0.634498</td>\n",
       "      <td>0.260905</td>\n",
       "      <td>0.442012</td>\n",
       "      <td>-0.479660</td>\n",
       "    </tr>\n",
       "  </tbody>\n",
       "</table>\n",
       "<p>192544 rows × 6 columns</p>\n",
       "</div>"
      ],
      "text/plain": [
       "        Unnamed: 0    weight    rating    height      size        age\n",
       "0        -1.732042  0.037403  0.634498  1.012808  0.206575  -0.728401\n",
       "1        -1.732024 -0.208898  0.634498  0.260905 -0.028862   0.266563\n",
       "2        -1.732006 -0.307418  0.634498 -0.490998 -0.970608  10.216203\n",
       "3        -1.731988 -0.061117 -0.764242 -0.115046 -0.499735   0.017822\n",
       "4        -1.731970  0.431483  0.634498  1.388760 -0.028862  -0.852772\n",
       "...            ...       ...       ...       ...       ...        ...\n",
       "192539    1.731970  0.185183  0.634498  1.388760 -0.499735   1.012786\n",
       "192540    1.731988 -1.785220  0.634498 -1.618852 -0.970608  -0.604031\n",
       "192541    1.732006 -0.061117 -2.162982  1.012808 -0.499735  -0.355290\n",
       "192542    1.732024  1.416685  0.634498  0.260905  0.442012  -0.355290\n",
       "192543    1.732042  0.924084  0.634498  0.260905  0.442012  -0.479660\n",
       "\n",
       "[192544 rows x 6 columns]"
      ]
     },
     "execution_count": 36,
     "metadata": {},
     "output_type": "execute_result"
    }
   ],
   "source": [
    "scaled_ds"
   ]
  },
  {
   "cell_type": "code",
   "execution_count": null,
   "id": "c2070a24",
   "metadata": {},
   "outputs": [],
   "source": []
  },
  {
   "cell_type": "markdown",
   "id": "aa3a8750",
   "metadata": {},
   "source": [
    "● Principal Component Analysis and Clustering: [ Score: 23 point ]\n",
    "\n",
    "14. Apply PCA on the above dataset and determine the number of PCA\n",
    "components to be used so that 90-95% of the variance in data is explained by\n",
    "the same. (7)\n",
    "15. Apply K-means clustering and segment the data. (You may use original\n",
    "data or PCA transformed data) (8)\n",
    "a. Find the optimal K Value using elbow plot for K Means clustering.\n",
    "b. Build a Kmeans clustering model using the obtained optimal K value\n",
    "from the elbow plot.\n",
    "c. Compute silhouette score for evaluating the quality of the K Means\n",
    "clustering technique.\n",
    "16. Apply Agglomerative clustering and segment the data. (You may use\n",
    "original data or PCA transformed data) (8)\n",
    "a. Find the optimal K Value using dendrogram for Agglomerative clustering.\n",
    "b. Build a Agglomerative clustering model using the obtained optimal K\n",
    "value observed from dendrogram.\n",
    "c. Compute silhouette score for evaluating the quality of the Agglomerative\n",
    "clustering technique. (Hint: Take a sample of the dataset for agglomerative\n",
    "clustering to reduce the computational time)\n"
   ]
  },
  {
   "cell_type": "code",
   "execution_count": 37,
   "id": "5c41db9f",
   "metadata": {},
   "outputs": [
    {
     "name": "stdout",
     "output_type": "stream",
     "text": [
      "Covariance matrix \n",
      " [[ 1.00000519e+00  5.88801127e-04 -2.79599879e-03  3.35608907e-03\n",
      "   7.71673203e-04  6.04182994e-04]\n",
      " [ 5.88801127e-04  1.00000519e+00 -2.09651667e-02  3.43259194e-01\n",
      "   6.99741338e-01  6.62728926e-02]\n",
      " [-2.79599879e-03 -2.09651667e-02  1.00000519e+00  1.83477352e-03\n",
      "  -3.67286881e-02 -3.51431810e-02]\n",
      " [ 3.35608907e-03  3.43259194e-01  1.83477352e-03  1.00000519e+00\n",
      "   2.28239705e-01 -6.99813101e-03]\n",
      " [ 7.71673203e-04  6.99741338e-01 -3.67286881e-02  2.28239705e-01\n",
      "   1.00000519e+00  1.55031274e-01]\n",
      " [ 6.04182994e-04  6.62728926e-02 -3.51431810e-02 -6.99813101e-03\n",
      "   1.55031274e-01  1.00000519e+00]]\n"
     ]
    }
   ],
   "source": [
    "## 14. Appply PCA on dataset, determine components to be used so that 90-95% variance is explained\n",
    "## step1: calculate the covariance matrix\n",
    "cov_matrix = np.cov(scaled_ds.T)\n",
    "print('Covariance matrix','\\n',cov_matrix)"
   ]
  },
  {
   "cell_type": "code",
   "execution_count": 38,
   "id": "5eae3174",
   "metadata": {},
   "outputs": [
    {
     "name": "stdout",
     "output_type": "stream",
     "text": [
      "Eigen vectors: \n",
      " [[-2.67793577e-03 -6.33298553e-04  1.27179924e-02 -8.54081530e-02\n",
      "   9.95976209e-01  2.38226497e-02]\n",
      " [-6.47584611e-01 -7.18116594e-01  2.42630071e-01  2.25454764e-02\n",
      "  -1.57876590e-03 -7.45827540e-02]\n",
      " [ 4.54596428e-02  9.63584336e-03  3.34725913e-02 -7.84868420e-01\n",
      "  -5.29001878e-02 -6.14738392e-01]\n",
      " [-4.01272682e-01  1.26966241e-01 -8.17046911e-01  2.03846475e-01\n",
      "   3.49388304e-02 -3.35440078e-01]\n",
      " [-6.27777015e-01  6.79593615e-01  3.65221428e-01 -6.99962470e-02\n",
      "  -1.37077070e-02  7.46623783e-02]\n",
      " [-1.53090415e-01 -7.90404943e-02 -3.72687725e-01 -5.74217601e-01\n",
      "  -6.18210765e-02  7.05600515e-01]]\n",
      "\n",
      "\n",
      "Eigen values: \n",
      " [1.90818375 0.28468759 0.79272793 0.97083999 1.00022238 1.04336953]\n"
     ]
    }
   ],
   "source": [
    "## step 2: Calculating eigen values and eigen vectors\n",
    "eig_vals, eig_vecs = np.linalg.eig(cov_matrix)\n",
    "print('Eigen vectors:','\\n',eig_vecs)\n",
    "print('\\n')\n",
    "print('Eigen values:','\\n',eig_vals)"
   ]
  },
  {
   "cell_type": "code",
   "execution_count": 39,
   "id": "a49bb450",
   "metadata": {},
   "outputs": [
    {
     "name": "stdout",
     "output_type": "stream",
     "text": [
      "Variance Explained:  [31.802897310789458, 17.389401858113747, 16.670286346031983, 16.180582470736518, 13.21206353831653, 4.744768476011778]\n",
      "Cummulative Variance Explained:  [ 31.80289731  49.19229917  65.86258551  82.04316799  95.25523152\n",
      " 100.        ]\n"
     ]
    }
   ],
   "source": [
    "## step 3: Calculating the Variance explained and the cummulative variance explained\n",
    "total = sum(eig_vals)\n",
    "var_exp = [ (i/total)*100  for i in sorted(eig_vals,reverse=True)]\n",
    "cum_var_exp = np.cumsum(var_exp)\n",
    "print('Variance Explained: ',var_exp)\n",
    "print('Cummulative Variance Explained: ',cum_var_exp)"
   ]
  },
  {
   "cell_type": "code",
   "execution_count": 42,
   "id": "c800149b",
   "metadata": {},
   "outputs": [
    {
     "ename": "ValueError",
     "evalue": "shape mismatch: objects cannot be broadcast to a single shape",
     "output_type": "error",
     "traceback": [
      "\u001b[1;31m---------------------------------------------------------------------------\u001b[0m",
      "\u001b[1;31mValueError\u001b[0m                                Traceback (most recent call last)",
      "Input \u001b[1;32mIn [42]\u001b[0m, in \u001b[0;36m<cell line: 2>\u001b[1;34m()\u001b[0m\n\u001b[0;32m      1\u001b[0m \u001b[38;5;66;03m## step 4: Scree plot\u001b[39;00m\n\u001b[1;32m----> 2\u001b[0m \u001b[43mplt\u001b[49m\u001b[38;5;241;43m.\u001b[39;49m\u001b[43mbar\u001b[49m\u001b[43m(\u001b[49m\u001b[38;5;28;43mrange\u001b[39;49m\u001b[43m(\u001b[49m\u001b[38;5;241;43m5\u001b[39;49m\u001b[43m)\u001b[49m\u001b[43m,\u001b[49m\u001b[43mvar_exp\u001b[49m\u001b[43m,\u001b[49m\u001b[43m \u001b[49m\u001b[43malign\u001b[49m\u001b[38;5;241;43m=\u001b[39;49m\u001b[38;5;124;43m'\u001b[39;49m\u001b[38;5;124;43mcenter\u001b[39;49m\u001b[38;5;124;43m'\u001b[39;49m\u001b[43m,\u001b[49m\u001b[43mcolor\u001b[49m\u001b[38;5;241;43m=\u001b[39;49m\u001b[38;5;124;43m'\u001b[39;49m\u001b[38;5;124;43mlightgreen\u001b[39;49m\u001b[38;5;124;43m'\u001b[39;49m\u001b[43m,\u001b[49m\u001b[43medgecolor\u001b[49m\u001b[38;5;241;43m=\u001b[39;49m\u001b[38;5;124;43m'\u001b[39;49m\u001b[38;5;124;43mblack\u001b[39;49m\u001b[38;5;124;43m'\u001b[39;49m\u001b[43m,\u001b[49m\u001b[43mlabel\u001b[49m\u001b[38;5;241;43m=\u001b[39;49m\u001b[38;5;124;43m'\u001b[39;49m\u001b[38;5;124;43mIndiviual Explained Varinace\u001b[39;49m\u001b[38;5;124;43m'\u001b[39;49m\u001b[43m)\u001b[49m\n\u001b[0;32m      3\u001b[0m plt\u001b[38;5;241m.\u001b[39mstep(\u001b[38;5;28mrange\u001b[39m(\u001b[38;5;241m5\u001b[39m), cum_var_exp, where\u001b[38;5;241m=\u001b[39m\u001b[38;5;124m'\u001b[39m\u001b[38;5;124mmid\u001b[39m\u001b[38;5;124m'\u001b[39m,color\u001b[38;5;241m=\u001b[39m\u001b[38;5;124m'\u001b[39m\u001b[38;5;124mred\u001b[39m\u001b[38;5;124m'\u001b[39m,label\u001b[38;5;241m=\u001b[39m\u001b[38;5;124m'\u001b[39m\u001b[38;5;124mCummulative explained Variance\u001b[39m\u001b[38;5;124m'\u001b[39m)\n\u001b[0;32m      4\u001b[0m plt\u001b[38;5;241m.\u001b[39mlegend(loc \u001b[38;5;241m=\u001b[39m \u001b[38;5;124m'\u001b[39m\u001b[38;5;124mbest\u001b[39m\u001b[38;5;124m'\u001b[39m)\n",
      "File \u001b[1;32m~\\anaconda3\\lib\\site-packages\\matplotlib\\pyplot.py:2387\u001b[0m, in \u001b[0;36mbar\u001b[1;34m(x, height, width, bottom, align, data, **kwargs)\u001b[0m\n\u001b[0;32m   2383\u001b[0m \u001b[38;5;129m@_copy_docstring_and_deprecators\u001b[39m(Axes\u001b[38;5;241m.\u001b[39mbar)\n\u001b[0;32m   2384\u001b[0m \u001b[38;5;28;01mdef\u001b[39;00m \u001b[38;5;21mbar\u001b[39m(\n\u001b[0;32m   2385\u001b[0m         x, height, width\u001b[38;5;241m=\u001b[39m\u001b[38;5;241m0.8\u001b[39m, bottom\u001b[38;5;241m=\u001b[39m\u001b[38;5;28;01mNone\u001b[39;00m, \u001b[38;5;241m*\u001b[39m, align\u001b[38;5;241m=\u001b[39m\u001b[38;5;124m'\u001b[39m\u001b[38;5;124mcenter\u001b[39m\u001b[38;5;124m'\u001b[39m,\n\u001b[0;32m   2386\u001b[0m         data\u001b[38;5;241m=\u001b[39m\u001b[38;5;28;01mNone\u001b[39;00m, \u001b[38;5;241m*\u001b[39m\u001b[38;5;241m*\u001b[39mkwargs):\n\u001b[1;32m-> 2387\u001b[0m     \u001b[38;5;28;01mreturn\u001b[39;00m gca()\u001b[38;5;241m.\u001b[39mbar(\n\u001b[0;32m   2388\u001b[0m         x, height, width\u001b[38;5;241m=\u001b[39mwidth, bottom\u001b[38;5;241m=\u001b[39mbottom, align\u001b[38;5;241m=\u001b[39malign,\n\u001b[0;32m   2389\u001b[0m         \u001b[38;5;241m*\u001b[39m\u001b[38;5;241m*\u001b[39m({\u001b[38;5;124m\"\u001b[39m\u001b[38;5;124mdata\u001b[39m\u001b[38;5;124m\"\u001b[39m: data} \u001b[38;5;28;01mif\u001b[39;00m data \u001b[38;5;129;01mis\u001b[39;00m \u001b[38;5;129;01mnot\u001b[39;00m \u001b[38;5;28;01mNone\u001b[39;00m \u001b[38;5;28;01melse\u001b[39;00m {}), \u001b[38;5;241m*\u001b[39m\u001b[38;5;241m*\u001b[39mkwargs)\n",
      "File \u001b[1;32m~\\anaconda3\\lib\\site-packages\\matplotlib\\__init__.py:1412\u001b[0m, in \u001b[0;36m_preprocess_data.<locals>.inner\u001b[1;34m(ax, data, *args, **kwargs)\u001b[0m\n\u001b[0;32m   1409\u001b[0m \u001b[38;5;129m@functools\u001b[39m\u001b[38;5;241m.\u001b[39mwraps(func)\n\u001b[0;32m   1410\u001b[0m \u001b[38;5;28;01mdef\u001b[39;00m \u001b[38;5;21minner\u001b[39m(ax, \u001b[38;5;241m*\u001b[39margs, data\u001b[38;5;241m=\u001b[39m\u001b[38;5;28;01mNone\u001b[39;00m, \u001b[38;5;241m*\u001b[39m\u001b[38;5;241m*\u001b[39mkwargs):\n\u001b[0;32m   1411\u001b[0m     \u001b[38;5;28;01mif\u001b[39;00m data \u001b[38;5;129;01mis\u001b[39;00m \u001b[38;5;28;01mNone\u001b[39;00m:\n\u001b[1;32m-> 1412\u001b[0m         \u001b[38;5;28;01mreturn\u001b[39;00m func(ax, \u001b[38;5;241m*\u001b[39m\u001b[38;5;28mmap\u001b[39m(sanitize_sequence, args), \u001b[38;5;241m*\u001b[39m\u001b[38;5;241m*\u001b[39mkwargs)\n\u001b[0;32m   1414\u001b[0m     bound \u001b[38;5;241m=\u001b[39m new_sig\u001b[38;5;241m.\u001b[39mbind(ax, \u001b[38;5;241m*\u001b[39margs, \u001b[38;5;241m*\u001b[39m\u001b[38;5;241m*\u001b[39mkwargs)\n\u001b[0;32m   1415\u001b[0m     auto_label \u001b[38;5;241m=\u001b[39m (bound\u001b[38;5;241m.\u001b[39marguments\u001b[38;5;241m.\u001b[39mget(label_namer)\n\u001b[0;32m   1416\u001b[0m                   \u001b[38;5;129;01mor\u001b[39;00m bound\u001b[38;5;241m.\u001b[39mkwargs\u001b[38;5;241m.\u001b[39mget(label_namer))\n",
      "File \u001b[1;32m~\\anaconda3\\lib\\site-packages\\matplotlib\\axes\\_axes.py:2342\u001b[0m, in \u001b[0;36mAxes.bar\u001b[1;34m(self, x, height, width, bottom, align, **kwargs)\u001b[0m\n\u001b[0;32m   2339\u001b[0m     \u001b[38;5;28;01mif\u001b[39;00m yerr \u001b[38;5;129;01mis\u001b[39;00m \u001b[38;5;129;01mnot\u001b[39;00m \u001b[38;5;28;01mNone\u001b[39;00m:\n\u001b[0;32m   2340\u001b[0m         yerr \u001b[38;5;241m=\u001b[39m \u001b[38;5;28mself\u001b[39m\u001b[38;5;241m.\u001b[39m_convert_dx(yerr, y0, y, \u001b[38;5;28mself\u001b[39m\u001b[38;5;241m.\u001b[39mconvert_yunits)\n\u001b[1;32m-> 2342\u001b[0m x, height, width, y, linewidth, hatch \u001b[38;5;241m=\u001b[39m \u001b[43mnp\u001b[49m\u001b[38;5;241;43m.\u001b[39;49m\u001b[43mbroadcast_arrays\u001b[49m\u001b[43m(\u001b[49m\n\u001b[0;32m   2343\u001b[0m \u001b[43m    \u001b[49m\u001b[38;5;66;43;03m# Make args iterable too.\u001b[39;49;00m\n\u001b[0;32m   2344\u001b[0m \u001b[43m    \u001b[49m\u001b[43mnp\u001b[49m\u001b[38;5;241;43m.\u001b[39;49m\u001b[43matleast_1d\u001b[49m\u001b[43m(\u001b[49m\u001b[43mx\u001b[49m\u001b[43m)\u001b[49m\u001b[43m,\u001b[49m\u001b[43m \u001b[49m\u001b[43mheight\u001b[49m\u001b[43m,\u001b[49m\u001b[43m \u001b[49m\u001b[43mwidth\u001b[49m\u001b[43m,\u001b[49m\u001b[43m \u001b[49m\u001b[43my\u001b[49m\u001b[43m,\u001b[49m\u001b[43m \u001b[49m\u001b[43mlinewidth\u001b[49m\u001b[43m,\u001b[49m\u001b[43m \u001b[49m\u001b[43mhatch\u001b[49m\u001b[43m)\u001b[49m\n\u001b[0;32m   2346\u001b[0m \u001b[38;5;66;03m# Now that units have been converted, set the tick locations.\u001b[39;00m\n\u001b[0;32m   2347\u001b[0m \u001b[38;5;28;01mif\u001b[39;00m orientation \u001b[38;5;241m==\u001b[39m \u001b[38;5;124m'\u001b[39m\u001b[38;5;124mvertical\u001b[39m\u001b[38;5;124m'\u001b[39m:\n",
      "File \u001b[1;32m<__array_function__ internals>:5\u001b[0m, in \u001b[0;36mbroadcast_arrays\u001b[1;34m(*args, **kwargs)\u001b[0m\n",
      "File \u001b[1;32m~\\anaconda3\\lib\\site-packages\\numpy\\lib\\stride_tricks.py:538\u001b[0m, in \u001b[0;36mbroadcast_arrays\u001b[1;34m(subok, *args)\u001b[0m\n\u001b[0;32m    531\u001b[0m \u001b[38;5;66;03m# nditer is not used here to avoid the limit of 32 arrays.\u001b[39;00m\n\u001b[0;32m    532\u001b[0m \u001b[38;5;66;03m# Otherwise, something like the following one-liner would suffice:\u001b[39;00m\n\u001b[0;32m    533\u001b[0m \u001b[38;5;66;03m# return np.nditer(args, flags=['multi_index', 'zerosize_ok'],\u001b[39;00m\n\u001b[0;32m    534\u001b[0m \u001b[38;5;66;03m#                  order='C').itviews\u001b[39;00m\n\u001b[0;32m    536\u001b[0m args \u001b[38;5;241m=\u001b[39m [np\u001b[38;5;241m.\u001b[39marray(_m, copy\u001b[38;5;241m=\u001b[39m\u001b[38;5;28;01mFalse\u001b[39;00m, subok\u001b[38;5;241m=\u001b[39msubok) \u001b[38;5;28;01mfor\u001b[39;00m _m \u001b[38;5;129;01min\u001b[39;00m args]\n\u001b[1;32m--> 538\u001b[0m shape \u001b[38;5;241m=\u001b[39m \u001b[43m_broadcast_shape\u001b[49m\u001b[43m(\u001b[49m\u001b[38;5;241;43m*\u001b[39;49m\u001b[43margs\u001b[49m\u001b[43m)\u001b[49m\n\u001b[0;32m    540\u001b[0m \u001b[38;5;28;01mif\u001b[39;00m \u001b[38;5;28mall\u001b[39m(array\u001b[38;5;241m.\u001b[39mshape \u001b[38;5;241m==\u001b[39m shape \u001b[38;5;28;01mfor\u001b[39;00m array \u001b[38;5;129;01min\u001b[39;00m args):\n\u001b[0;32m    541\u001b[0m     \u001b[38;5;66;03m# Common case where nothing needs to be broadcasted.\u001b[39;00m\n\u001b[0;32m    542\u001b[0m     \u001b[38;5;28;01mreturn\u001b[39;00m args\n",
      "File \u001b[1;32m~\\anaconda3\\lib\\site-packages\\numpy\\lib\\stride_tricks.py:420\u001b[0m, in \u001b[0;36m_broadcast_shape\u001b[1;34m(*args)\u001b[0m\n\u001b[0;32m    415\u001b[0m \u001b[38;5;124;03m\"\"\"Returns the shape of the arrays that would result from broadcasting the\u001b[39;00m\n\u001b[0;32m    416\u001b[0m \u001b[38;5;124;03msupplied arrays against each other.\u001b[39;00m\n\u001b[0;32m    417\u001b[0m \u001b[38;5;124;03m\"\"\"\u001b[39;00m\n\u001b[0;32m    418\u001b[0m \u001b[38;5;66;03m# use the old-iterator because np.nditer does not handle size 0 arrays\u001b[39;00m\n\u001b[0;32m    419\u001b[0m \u001b[38;5;66;03m# consistently\u001b[39;00m\n\u001b[1;32m--> 420\u001b[0m b \u001b[38;5;241m=\u001b[39m \u001b[43mnp\u001b[49m\u001b[38;5;241;43m.\u001b[39;49m\u001b[43mbroadcast\u001b[49m\u001b[43m(\u001b[49m\u001b[38;5;241;43m*\u001b[39;49m\u001b[43margs\u001b[49m\u001b[43m[\u001b[49m\u001b[43m:\u001b[49m\u001b[38;5;241;43m32\u001b[39;49m\u001b[43m]\u001b[49m\u001b[43m)\u001b[49m\n\u001b[0;32m    421\u001b[0m \u001b[38;5;66;03m# unfortunately, it cannot handle 32 or more arguments directly\u001b[39;00m\n\u001b[0;32m    422\u001b[0m \u001b[38;5;28;01mfor\u001b[39;00m pos \u001b[38;5;129;01min\u001b[39;00m \u001b[38;5;28mrange\u001b[39m(\u001b[38;5;241m32\u001b[39m, \u001b[38;5;28mlen\u001b[39m(args), \u001b[38;5;241m31\u001b[39m):\n\u001b[0;32m    423\u001b[0m     \u001b[38;5;66;03m# ironically, np.broadcast does not properly handle np.broadcast\u001b[39;00m\n\u001b[0;32m    424\u001b[0m     \u001b[38;5;66;03m# objects (it treats them as scalars)\u001b[39;00m\n\u001b[0;32m    425\u001b[0m     \u001b[38;5;66;03m# use broadcasting to avoid allocating the full array\u001b[39;00m\n",
      "\u001b[1;31mValueError\u001b[0m: shape mismatch: objects cannot be broadcast to a single shape"
     ]
    },
    {
     "data": {
      "image/png": "[encoded data removed]",
      "text/plain": [
       "<Figure size 432x288 with 1 Axes>"
      ]
     },
     "metadata": {
      "needs_background": "light"
     },
     "output_type": "display_data"
    }
   ],
   "source": [
    "## step 4: Scree plot\n",
    "plt.bar(range(5),var_exp, align='center',color='lightgreen',edgecolor='black',label='Indiviual Explained Varinace')\n",
    "plt.step(range(5), cum_var_exp, where='mid',color='red',label='Cummulative explained Variance')\n",
    "plt.legend(loc = 'best')\n",
    "plt.ylabel('Explained Variance Ratio')\n",
    "plt.xlabel('Principal Components')\n",
    "plt.tight_layout()\n",
    "plt.show()"
   ]
  },
  {
   "cell_type": "code",
   "execution_count": 43,
   "id": "2bf86c2a",
   "metadata": {},
   "outputs": [
    {
     "data": {
      "text/plain": [
       "PCA(n_components=5)"
      ]
     },
     "execution_count": 43,
     "metadata": {},
     "output_type": "execute_result"
    }
   ],
   "source": [
    "from sklearn.decomposition import PCA\n",
    "## 15. Apply K-means clustering and segment the data. (You may use original data or PCA transformed data) \n",
    "## Fitting the PCA model\n",
    "pca=PCA(n_components = 5)\n",
    "pca.fit(scaled_ds)"
   ]
  },
  {
   "cell_type": "code",
   "execution_count": 44,
   "id": "b65bfabb",
   "metadata": {},
   "outputs": [],
   "source": [
    "data_pca = pca.transform(scaled_ds)\n",
    "data_pca = pd.DataFrame(data_pca,columns=['PC1','PC2','PC3','PC4','PC5'])\n",
    "data_pca1=data_pca.head(10000)"
   ]
  },
  {
   "cell_type": "code",
   "execution_count": 45,
   "id": "6ca7b1a5",
   "metadata": {},
   "outputs": [
    {
     "data": {
      "text/html": [
       "<div>\n",
       "<style scoped>\n",
       "    .dataframe tbody tr th:only-of-type {\n",
       "        vertical-align: middle;\n",
       "    }\n",
       "\n",
       "    .dataframe tbody tr th {\n",
       "        vertical-align: top;\n",
       "    }\n",
       "\n",
       "    .dataframe thead th {\n",
       "        text-align: right;\n",
       "    }\n",
       "</style>\n",
       "<table border=\"1\" class=\"dataframe\">\n",
       "  <thead>\n",
       "    <tr style=\"text-align: right;\">\n",
       "      <th></th>\n",
       "      <th>num_clusters</th>\n",
       "      <th>cluster_errors</th>\n",
       "    </tr>\n",
       "  </thead>\n",
       "  <tbody>\n",
       "    <tr>\n",
       "      <th>0</th>\n",
       "      <td>1</td>\n",
       "      <td>46457.089446</td>\n",
       "    </tr>\n",
       "    <tr>\n",
       "      <th>1</th>\n",
       "      <td>2</td>\n",
       "      <td>34970.481320</td>\n",
       "    </tr>\n",
       "    <tr>\n",
       "      <th>2</th>\n",
       "      <td>3</td>\n",
       "      <td>29719.566804</td>\n",
       "    </tr>\n",
       "    <tr>\n",
       "      <th>3</th>\n",
       "      <td>4</td>\n",
       "      <td>25787.874910</td>\n",
       "    </tr>\n",
       "    <tr>\n",
       "      <th>4</th>\n",
       "      <td>5</td>\n",
       "      <td>21918.902776</td>\n",
       "    </tr>\n",
       "    <tr>\n",
       "      <th>5</th>\n",
       "      <td>6</td>\n",
       "      <td>19944.276006</td>\n",
       "    </tr>\n",
       "    <tr>\n",
       "      <th>6</th>\n",
       "      <td>7</td>\n",
       "      <td>18383.782603</td>\n",
       "    </tr>\n",
       "    <tr>\n",
       "      <th>7</th>\n",
       "      <td>8</td>\n",
       "      <td>17039.978741</td>\n",
       "    </tr>\n",
       "    <tr>\n",
       "      <th>8</th>\n",
       "      <td>9</td>\n",
       "      <td>16066.179681</td>\n",
       "    </tr>\n",
       "    <tr>\n",
       "      <th>9</th>\n",
       "      <td>10</td>\n",
       "      <td>15177.679134</td>\n",
       "    </tr>\n",
       "    <tr>\n",
       "      <th>10</th>\n",
       "      <td>11</td>\n",
       "      <td>14472.018502</td>\n",
       "    </tr>\n",
       "    <tr>\n",
       "      <th>11</th>\n",
       "      <td>12</td>\n",
       "      <td>13837.349856</td>\n",
       "    </tr>\n",
       "    <tr>\n",
       "      <th>12</th>\n",
       "      <td>13</td>\n",
       "      <td>13264.403483</td>\n",
       "    </tr>\n",
       "    <tr>\n",
       "      <th>13</th>\n",
       "      <td>14</td>\n",
       "      <td>12811.398551</td>\n",
       "    </tr>\n",
       "  </tbody>\n",
       "</table>\n",
       "</div>"
      ],
      "text/plain": [
       "    num_clusters  cluster_errors\n",
       "0              1    46457.089446\n",
       "1              2    34970.481320\n",
       "2              3    29719.566804\n",
       "3              4    25787.874910\n",
       "4              5    21918.902776\n",
       "5              6    19944.276006\n",
       "6              7    18383.782603\n",
       "7              8    17039.978741\n",
       "8              9    16066.179681\n",
       "9             10    15177.679134\n",
       "10            11    14472.018502\n",
       "11            12    13837.349856\n",
       "12            13    13264.403483\n",
       "13            14    12811.398551"
      ]
     },
     "execution_count": 45,
     "metadata": {},
     "output_type": "execute_result"
    }
   ],
   "source": [
    "cluster_range = range(1,15)\n",
    "cluster_errors = []\n",
    "\n",
    "for num_clusters in cluster_range:\n",
    "   \n",
    "    clusters = KMeans(num_clusters, n_init=8)\n",
    "    clusters.fit(data_pca1)\n",
    "    \n",
    "    labels = clusters.labels_\n",
    "    centroids = clusters.cluster_centers_\n",
    "    \n",
    "    cluster_errors.append(clusters.inertia_)\n",
    "\n",
    "clusters_df = pd.DataFrame({'num_clusters':cluster_range, \n",
    "                           'cluster_errors':cluster_errors})\n",
    "\n",
    "clusters_df"
   ]
  },
  {
   "cell_type": "code",
   "execution_count": 46,
   "id": "70faba42",
   "metadata": {},
   "outputs": [
    {
     "data": {
      "image/png": "[encoded data removed]",
      "text/plain": [
       "<Figure size 1080x360 with 1 Axes>"
      ]
     },
     "metadata": {
      "needs_background": "light"
     },
     "output_type": "display_data"
    }
   ],
   "source": [
    "# Elbow method\n",
    "plt.figure(figsize=[15,5])\n",
    "plt.title('The Elbow Method')\n",
    "plt.xlabel('Number of clusters using PCA')\n",
    "plt.plot(clusters_df['num_clusters'],clusters_df['cluster_errors'],marker='o',color='b')\n",
    "plt.show()"
   ]
  },
  {
   "cell_type": "code",
   "execution_count": 47,
   "id": "edecfc12",
   "metadata": {},
   "outputs": [
    {
     "data": {
      "text/plain": [
       "KMeans(n_clusters=3, n_init=15, random_state=100)"
      ]
     },
     "execution_count": 47,
     "metadata": {},
     "output_type": "execute_result"
    }
   ],
   "source": [
    "## Fit the KMeans clustering model using the obtained optimal K\n",
    "kmeans = KMeans(n_clusters=3, n_init=15, random_state=100)\n",
    "kmeans.fit(data_pca1)"
   ]
  },
  {
   "cell_type": "code",
   "execution_count": 48,
   "id": "60ef08a1",
   "metadata": {},
   "outputs": [
    {
     "data": {
      "text/plain": [
       "array([1, 1, 2, ..., 0, 2, 0])"
      ]
     },
     "execution_count": 48,
     "metadata": {},
     "output_type": "execute_result"
    }
   ],
   "source": [
    "## obtained labels from kmeans clustering\n",
    "kmeans.labels_"
   ]
  },
  {
   "cell_type": "code",
   "execution_count": 49,
   "id": "503c0cdd",
   "metadata": {},
   "outputs": [
    {
     "data": {
      "text/html": [
       "<div>\n",
       "<style scoped>\n",
       "    .dataframe tbody tr th:only-of-type {\n",
       "        vertical-align: middle;\n",
       "    }\n",
       "\n",
       "    .dataframe tbody tr th {\n",
       "        vertical-align: top;\n",
       "    }\n",
       "\n",
       "    .dataframe thead th {\n",
       "        text-align: right;\n",
       "    }\n",
       "</style>\n",
       "<table border=\"1\" class=\"dataframe\">\n",
       "  <thead>\n",
       "    <tr style=\"text-align: right;\">\n",
       "      <th></th>\n",
       "      <th>PC1</th>\n",
       "      <th>PC2</th>\n",
       "      <th>PC3</th>\n",
       "      <th>PC4</th>\n",
       "      <th>PC5</th>\n",
       "      <th>Labels</th>\n",
       "    </tr>\n",
       "  </thead>\n",
       "  <tbody>\n",
       "    <tr>\n",
       "      <th>0</th>\n",
       "      <td>0.415323</td>\n",
       "      <td>-1.272375</td>\n",
       "      <td>1.681111</td>\n",
       "      <td>-0.261035</td>\n",
       "      <td>0.472315</td>\n",
       "      <td>1.0</td>\n",
       "    </tr>\n",
       "    <tr>\n",
       "      <th>1</th>\n",
       "      <td>-0.041377</td>\n",
       "      <td>-0.317317</td>\n",
       "      <td>1.765258</td>\n",
       "      <td>0.452638</td>\n",
       "      <td>0.374532</td>\n",
       "      <td>1.0</td>\n",
       "    </tr>\n",
       "    <tr>\n",
       "      <th>2</th>\n",
       "      <td>0.525092</td>\n",
       "      <td>6.892407</td>\n",
       "      <td>2.393543</td>\n",
       "      <td>6.255473</td>\n",
       "      <td>3.836150</td>\n",
       "      <td>2.0</td>\n",
       "    </tr>\n",
       "    <tr>\n",
       "      <th>3</th>\n",
       "      <td>-0.366633</td>\n",
       "      <td>0.446962</td>\n",
       "      <td>1.682765</td>\n",
       "      <td>-0.747672</td>\n",
       "      <td>0.157595</td>\n",
       "      <td>0.0</td>\n",
       "    </tr>\n",
       "    <tr>\n",
       "      <th>4</th>\n",
       "      <td>0.654541</td>\n",
       "      <td>-1.533208</td>\n",
       "      <td>1.657611</td>\n",
       "      <td>-0.434446</td>\n",
       "      <td>0.723503</td>\n",
       "      <td>2.0</td>\n",
       "    </tr>\n",
       "  </tbody>\n",
       "</table>\n",
       "</div>"
      ],
      "text/plain": [
       "        PC1       PC2       PC3       PC4       PC5  Labels\n",
       "0  0.415323 -1.272375  1.681111 -0.261035  0.472315     1.0\n",
       "1 -0.041377 -0.317317  1.765258  0.452638  0.374532     1.0\n",
       "2  0.525092  6.892407  2.393543  6.255473  3.836150     2.0\n",
       "3 -0.366633  0.446962  1.682765 -0.747672  0.157595     0.0\n",
       "4  0.654541 -1.533208  1.657611 -0.434446  0.723503     2.0"
      ]
     },
     "execution_count": 49,
     "metadata": {},
     "output_type": "execute_result"
    }
   ],
   "source": [
    "## Creating a new dataframe only for labels.\n",
    "df_labels = pd.DataFrame(kmeans.labels_, columns=list(['Labels']))\n",
    "kmeans_df=data_pca.join(df_labels)\n",
    "kmeans_df.head(5)"
   ]
  },
  {
   "cell_type": "code",
   "execution_count": 50,
   "id": "fa390498",
   "metadata": {},
   "outputs": [
    {
     "data": {
      "text/plain": [
       "1.0    4473\n",
       "2.0    2872\n",
       "0.0    2655\n",
       "Name: Labels, dtype: int64"
      ]
     },
     "execution_count": 50,
     "metadata": {},
     "output_type": "execute_result"
    }
   ],
   "source": [
    "kmeans_df['Labels'].value_counts()"
   ]
  },
  {
   "cell_type": "code",
   "execution_count": 51,
   "id": "e26e372f",
   "metadata": {},
   "outputs": [
    {
     "name": "stdout",
     "output_type": "stream",
     "text": [
      "2 0.25166611449970294\n",
      "3 0.22687252307661787\n",
      "4 0.2404380537333867\n",
      "5 0.24284896105045617\n",
      "6 0.2257552823982216\n",
      "7 0.22859737483532594\n",
      "8 0.21985881081883432\n",
      "9 0.2285666377536325\n"
     ]
    }
   ],
   "source": [
    "from sklearn.metrics import silhouette_score\n",
    "kmeans_score = []\n",
    "\n",
    "for i in range(2,10):\n",
    "    kmeans = KMeans(n_clusters=i)\n",
    "    kmeans = kmeans.fit(data_pca1)\n",
    "    labels = kmeans.predict(data_pca1)\n",
    "    print(i,silhouette_score(data_pca1,labels))"
   ]
  },
  {
   "cell_type": "code",
   "execution_count": 52,
   "id": "675db7b3",
   "metadata": {},
   "outputs": [],
   "source": [
    "## 16. Apply Agglomerative clustering and segment the data. (You may use original data or PCA transformed data)\n",
    "## Taking a sample of 50K rows from the df1 dataframe using random sampling technique provided by pandas \n",
    "\n",
    "## Storing it in the new dataframe called 'df2' \n",
    "df2 =data_pca1\n",
    "\n",
    "## reseting the index\n",
    "df2.reset_index(inplace=True,drop=True)"
   ]
  },
  {
   "cell_type": "code",
   "execution_count": 53,
   "id": "46a607d8",
   "metadata": {},
   "outputs": [
    {
     "data": {
      "text/html": [
       "<div>\n",
       "<style scoped>\n",
       "    .dataframe tbody tr th:only-of-type {\n",
       "        vertical-align: middle;\n",
       "    }\n",
       "\n",
       "    .dataframe tbody tr th {\n",
       "        vertical-align: top;\n",
       "    }\n",
       "\n",
       "    .dataframe thead th {\n",
       "        text-align: right;\n",
       "    }\n",
       "</style>\n",
       "<table border=\"1\" class=\"dataframe\">\n",
       "  <thead>\n",
       "    <tr style=\"text-align: right;\">\n",
       "      <th></th>\n",
       "      <th>PC1</th>\n",
       "      <th>PC2</th>\n",
       "      <th>PC3</th>\n",
       "      <th>PC4</th>\n",
       "      <th>PC5</th>\n",
       "    </tr>\n",
       "  </thead>\n",
       "  <tbody>\n",
       "    <tr>\n",
       "      <th>0</th>\n",
       "      <td>0.415323</td>\n",
       "      <td>-1.272375</td>\n",
       "      <td>1.681111</td>\n",
       "      <td>-0.261035</td>\n",
       "      <td>0.472315</td>\n",
       "    </tr>\n",
       "    <tr>\n",
       "      <th>1</th>\n",
       "      <td>-0.041377</td>\n",
       "      <td>-0.317317</td>\n",
       "      <td>1.765258</td>\n",
       "      <td>0.452638</td>\n",
       "      <td>0.374532</td>\n",
       "    </tr>\n",
       "    <tr>\n",
       "      <th>2</th>\n",
       "      <td>0.525092</td>\n",
       "      <td>6.892407</td>\n",
       "      <td>2.393543</td>\n",
       "      <td>6.255473</td>\n",
       "      <td>3.836150</td>\n",
       "    </tr>\n",
       "    <tr>\n",
       "      <th>3</th>\n",
       "      <td>-0.366633</td>\n",
       "      <td>0.446962</td>\n",
       "      <td>1.682765</td>\n",
       "      <td>-0.747672</td>\n",
       "      <td>0.157595</td>\n",
       "    </tr>\n",
       "  </tbody>\n",
       "</table>\n",
       "</div>"
      ],
      "text/plain": [
       "        PC1       PC2       PC3       PC4       PC5\n",
       "0  0.415323 -1.272375  1.681111 -0.261035  0.472315\n",
       "1 -0.041377 -0.317317  1.765258  0.452638  0.374532\n",
       "2  0.525092  6.892407  2.393543  6.255473  3.836150\n",
       "3 -0.366633  0.446962  1.682765 -0.747672  0.157595"
      ]
     },
     "execution_count": 53,
     "metadata": {},
     "output_type": "execute_result"
    }
   ],
   "source": [
    "df2.head(4)"
   ]
  },
  {
   "cell_type": "code",
   "execution_count": 55,
   "id": "a276df84",
   "metadata": {},
   "outputs": [
    {
     "data": {
      "image/png": "[encoded data removed]",
      "text/plain": [
       "<Figure size 1080x360 with 1 Axes>"
      ]
     },
     "metadata": {
      "needs_background": "light"
     },
     "output_type": "display_data"
    }
   ],
   "source": [
    "from scipy.cluster.hierarchy import linkage, dendrogram, fcluster\n",
    "from sklearn.cluster import AgglomerativeClustering\n",
    "plt.figure(figsize=[15,5])\n",
    "merg = linkage(df2, method='ward')\n",
    "dendrogram(merg, leaf_rotation=90,)\n",
    "plt.xlabel('Datapoints')\n",
    "plt.ylabel('Euclidean distance')\n",
    "plt.show()"
   ]
  },
  {
   "cell_type": "code",
   "execution_count": 56,
   "id": "c67bca13",
   "metadata": {},
   "outputs": [],
   "source": [
    "## Building hierarchical clustering model using the optimal clusters as 4\n",
    "hie_cluster = AgglomerativeClustering(n_clusters=3, affinity='euclidean',\n",
    "                                     linkage='ward')\n",
    "hie_cluster_model = hie_cluster.fit(df2)"
   ]
  },
  {
   "cell_type": "code",
   "execution_count": 57,
   "id": "b8803b2f",
   "metadata": {},
   "outputs": [
    {
     "data": {
      "text/html": [
       "<div>\n",
       "<style scoped>\n",
       "    .dataframe tbody tr th:only-of-type {\n",
       "        vertical-align: middle;\n",
       "    }\n",
       "\n",
       "    .dataframe tbody tr th {\n",
       "        vertical-align: top;\n",
       "    }\n",
       "\n",
       "    .dataframe thead th {\n",
       "        text-align: right;\n",
       "    }\n",
       "</style>\n",
       "<table border=\"1\" class=\"dataframe\">\n",
       "  <thead>\n",
       "    <tr style=\"text-align: right;\">\n",
       "      <th></th>\n",
       "      <th>Labels</th>\n",
       "    </tr>\n",
       "  </thead>\n",
       "  <tbody>\n",
       "    <tr>\n",
       "      <th>0</th>\n",
       "      <td>0</td>\n",
       "    </tr>\n",
       "    <tr>\n",
       "      <th>1</th>\n",
       "      <td>0</td>\n",
       "    </tr>\n",
       "    <tr>\n",
       "      <th>2</th>\n",
       "      <td>0</td>\n",
       "    </tr>\n",
       "    <tr>\n",
       "      <th>3</th>\n",
       "      <td>2</td>\n",
       "    </tr>\n",
       "    <tr>\n",
       "      <th>4</th>\n",
       "      <td>0</td>\n",
       "    </tr>\n",
       "  </tbody>\n",
       "</table>\n",
       "</div>"
      ],
      "text/plain": [
       "   Labels\n",
       "0       0\n",
       "1       0\n",
       "2       0\n",
       "3       2\n",
       "4       0"
      ]
     },
     "execution_count": 57,
     "metadata": {},
     "output_type": "execute_result"
    }
   ],
   "source": [
    "## Creating a dataframe of the labels\n",
    "df_label1 = pd.DataFrame(hie_cluster_model.labels_,columns=['Labels'])\n",
    "df_label1.head(5)"
   ]
  },
  {
   "cell_type": "code",
   "execution_count": 58,
   "id": "1140b1d5",
   "metadata": {},
   "outputs": [
    {
     "name": "stdout",
     "output_type": "stream",
     "text": [
      "2 0.17621703728645724\n",
      "3 0.19959720307556492\n",
      "4 0.1717257181961026\n",
      "5 0.17602814876942952\n",
      "6 0.18298368861194977\n",
      "7 0.1883704062788716\n",
      "8 0.13713802257528077\n",
      "9 0.13831002338703066\n",
      "10 0.15218006764286843\n",
      "11 0.1420499952749341\n",
      "12 0.14181744109547026\n",
      "13 0.14854165429063798\n",
      "14 0.1484409245576853\n"
     ]
    }
   ],
   "source": [
    "for i in range(2,15):\n",
    "    hier = AgglomerativeClustering(n_clusters=i)\n",
    "    hier = hier.fit(df2)\n",
    "    labels = hier.fit_predict(df2)\n",
    "    print(i,silhouette_score(df2,labels))"
   ]
  },
  {
   "cell_type": "markdown",
   "id": "cd17e53a",
   "metadata": {},
   "source": [
    "We can observe from the silhouette scores for the agglomerative clustering for the 3 clusters the silhouette score is higher."
   ]
  },
  {
   "cell_type": "code",
   "execution_count": null,
   "id": "d11b9c0b",
   "metadata": {},
   "outputs": [],
   "source": []
  },
  {
   "cell_type": "code",
   "execution_count": null,
   "id": "79f22487",
   "metadata": {},
   "outputs": [],
   "source": []
  },
  {
   "cell_type": "markdown",
   "id": "fac55114",
   "metadata": {},
   "source": [
    "● Conclusion : [ Score: 2 point ]\n",
    "\n",
    "17. Perform cluster analysis by doing bivariate analysis between cluster labels\n",
    "and different features and write your conclusion on the results. (2)"
   ]
  },
  {
   "cell_type": "code",
   "execution_count": 59,
   "id": "a2db1f92",
   "metadata": {},
   "outputs": [
    {
     "data": {
      "text/html": [
       "<div>\n",
       "<style scoped>\n",
       "    .dataframe tbody tr th:only-of-type {\n",
       "        vertical-align: middle;\n",
       "    }\n",
       "\n",
       "    .dataframe tbody tr th {\n",
       "        vertical-align: top;\n",
       "    }\n",
       "\n",
       "    .dataframe thead th {\n",
       "        text-align: right;\n",
       "    }\n",
       "</style>\n",
       "<table border=\"1\" class=\"dataframe\">\n",
       "  <thead>\n",
       "    <tr style=\"text-align: right;\">\n",
       "      <th></th>\n",
       "      <th>Unnamed: 0</th>\n",
       "      <th>fit</th>\n",
       "      <th>bust size</th>\n",
       "      <th>weight</th>\n",
       "      <th>rating</th>\n",
       "      <th>rented for</th>\n",
       "      <th>review_text</th>\n",
       "      <th>body type</th>\n",
       "      <th>review_summary</th>\n",
       "      <th>category</th>\n",
       "      <th>height</th>\n",
       "      <th>size</th>\n",
       "      <th>age</th>\n",
       "      <th>Labels</th>\n",
       "    </tr>\n",
       "  </thead>\n",
       "  <tbody>\n",
       "    <tr>\n",
       "      <th>0</th>\n",
       "      <td>0</td>\n",
       "      <td>0</td>\n",
       "      <td>39</td>\n",
       "      <td>137.0</td>\n",
       "      <td>10.0</td>\n",
       "      <td>5</td>\n",
       "      <td>4364</td>\n",
       "      <td>3</td>\n",
       "      <td>109622</td>\n",
       "      <td>44</td>\n",
       "      <td>68.0</td>\n",
       "      <td>14</td>\n",
       "      <td>28.0</td>\n",
       "      <td>0.0</td>\n",
       "    </tr>\n",
       "    <tr>\n",
       "      <th>1</th>\n",
       "      <td>1</td>\n",
       "      <td>0</td>\n",
       "      <td>37</td>\n",
       "      <td>132.0</td>\n",
       "      <td>10.0</td>\n",
       "      <td>3</td>\n",
       "      <td>61040</td>\n",
       "      <td>6</td>\n",
       "      <td>59681</td>\n",
       "      <td>20</td>\n",
       "      <td>66.0</td>\n",
       "      <td>12</td>\n",
       "      <td>36.0</td>\n",
       "      <td>0.0</td>\n",
       "    </tr>\n",
       "    <tr>\n",
       "      <th>2</th>\n",
       "      <td>2</td>\n",
       "      <td>0</td>\n",
       "      <td>37</td>\n",
       "      <td>130.0</td>\n",
       "      <td>10.0</td>\n",
       "      <td>4</td>\n",
       "      <td>162991</td>\n",
       "      <td>3</td>\n",
       "      <td>74243</td>\n",
       "      <td>45</td>\n",
       "      <td>64.0</td>\n",
       "      <td>4</td>\n",
       "      <td>116.0</td>\n",
       "      <td>0.0</td>\n",
       "    </tr>\n",
       "    <tr>\n",
       "      <th>3</th>\n",
       "      <td>3</td>\n",
       "      <td>0</td>\n",
       "      <td>38</td>\n",
       "      <td>135.0</td>\n",
       "      <td>8.0</td>\n",
       "      <td>2</td>\n",
       "      <td>63856</td>\n",
       "      <td>4</td>\n",
       "      <td>28142</td>\n",
       "      <td>16</td>\n",
       "      <td>65.0</td>\n",
       "      <td>8</td>\n",
       "      <td>34.0</td>\n",
       "      <td>2.0</td>\n",
       "    </tr>\n",
       "    <tr>\n",
       "      <th>4</th>\n",
       "      <td>4</td>\n",
       "      <td>0</td>\n",
       "      <td>37</td>\n",
       "      <td>145.0</td>\n",
       "      <td>10.0</td>\n",
       "      <td>6</td>\n",
       "      <td>42647</td>\n",
       "      <td>1</td>\n",
       "      <td>140372</td>\n",
       "      <td>20</td>\n",
       "      <td>69.0</td>\n",
       "      <td>12</td>\n",
       "      <td>27.0</td>\n",
       "      <td>0.0</td>\n",
       "    </tr>\n",
       "  </tbody>\n",
       "</table>\n",
       "</div>"
      ],
      "text/plain": [
       "   Unnamed: 0  fit  bust size  weight  rating  rented for  review_text  \\\n",
       "0           0    0         39   137.0    10.0           5         4364   \n",
       "1           1    0         37   132.0    10.0           3        61040   \n",
       "2           2    0         37   130.0    10.0           4       162991   \n",
       "3           3    0         38   135.0     8.0           2        63856   \n",
       "4           4    0         37   145.0    10.0           6        42647   \n",
       "\n",
       "   body type  review_summary  category  height  size    age  Labels  \n",
       "0          3          109622        44    68.0    14   28.0     0.0  \n",
       "1          6           59681        20    66.0    12   36.0     0.0  \n",
       "2          3           74243        45    64.0     4  116.0     0.0  \n",
       "3          4           28142        16    65.0     8   34.0     2.0  \n",
       "4          1          140372        20    69.0    12   27.0     0.0  "
      ]
     },
     "execution_count": 59,
     "metadata": {},
     "output_type": "execute_result"
    }
   ],
   "source": [
    "## joining the label dataframe with unscaled initial cleaned dataframe.\n",
    "\n",
    "df_hier = df.join(df_label1)\n",
    "df_hier.head()"
   ]
  },
  {
   "cell_type": "code",
   "execution_count": 60,
   "id": "0aa409a9",
   "metadata": {},
   "outputs": [
    {
     "data": {
      "image/png": "[encoded data removed]",
      "text/plain": [
       "<Figure size 432x288 with 1 Axes>"
      ]
     },
     "metadata": {},
     "output_type": "display_data"
    }
   ],
   "source": [
    "df_hier['Labels'].value_counts().plot(kind='pie',autopct='%0.1f')\n",
    "plt.show()"
   ]
  },
  {
   "cell_type": "markdown",
   "id": "9e93691b",
   "metadata": {},
   "source": [
    "We can observe that the clusters formed are imbalanced. There are more number of records assigned to cluster 0 than that of cluster 1."
   ]
  },
  {
   "cell_type": "code",
   "execution_count": 61,
   "id": "76c376c3",
   "metadata": {},
   "outputs": [
    {
     "data": {
      "image/png": "[encoded data removed]",
      "text/plain": [
       "<Figure size 432x288 with 1 Axes>"
      ]
     },
     "metadata": {
      "needs_background": "light"
     },
     "output_type": "display_data"
    }
   ],
   "source": [
    "sns.countplot(df_hier['rented for'],hue='Labels',data=df_hier)\n",
    "plt.xticks(rotation = 45)\n",
    "plt.show()"
   ]
  },
  {
   "cell_type": "markdown",
   "id": "ce49cf1b",
   "metadata": {},
   "source": [
    "We can observe that there are more number of users who have rented the product is for 'wedding' and also there are more number of users belong to the cluster 0 compare to the cluster 1."
   ]
  },
  {
   "cell_type": "code",
   "execution_count": 62,
   "id": "b12af608",
   "metadata": {},
   "outputs": [
    {
     "data": {
      "image/png": "[encoded data removed]",
      "text/plain": [
       "<Figure size 432x288 with 1 Axes>"
      ]
     },
     "metadata": {
      "needs_background": "light"
     },
     "output_type": "display_data"
    }
   ],
   "source": [
    "## Lets check the age distribution of the different clusters.\n",
    "sns.kdeplot(df_hier['age'],hue='Labels',data=df_hier)\n",
    "plt.show()"
   ]
  },
  {
   "cell_type": "markdown",
   "id": "338cae14",
   "metadata": {},
   "source": [
    "The distribution of the age for different clusters is almost same, since there are more number of observations assigned to the cluster 0.\n",
    "\n",
    "In this project, we have attempted to implement and apply PCA on the renttherunway dataset and we selected 5 PCA compoments, which gave us the 90-95% of the variance in the data.\n",
    "\n",
    "Time of computation is longer about 20 minutes, should be taken in consideration for getting the final result."
   ]
  }
 ],
 "metadata": {
  "kernelspec": {
   "display_name": "Python 3 (ipykernel)",
   "language": "python",
   "name": "python3"
  },
  "language_info": {
   "codemirror_mode": {
    "name": "ipython",
    "version": 3
   },
   "file_extension": ".py",
   "mimetype": "text/x-python",
   "name": "python",
   "nbconvert_exporter": "python",
   "pygments_lexer": "ipython3",
   "version": "3.9.12"
  }
 },
 "nbformat": 4,
 "nbformat_minor": 5
}
